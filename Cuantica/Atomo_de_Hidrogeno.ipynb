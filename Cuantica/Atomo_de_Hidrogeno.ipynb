{
  "nbformat": 4,
  "nbformat_minor": 0,
  "metadata": {
    "colab": {
      "name": "Atomo de Hidrogeno.ipynb",
      "version": "0.3.2",
      "provenance": [],
      "collapsed_sections": [],
      "include_colab_link": true
    },
    "kernelspec": {
      "name": "python2",
      "display_name": "Python 2"
    }
  },
  "cells": [
    {
      "cell_type": "markdown",
      "metadata": {
        "id": "view-in-github",
        "colab_type": "text"
      },
      "source": [
        "<a href=\"https://colab.research.google.com/github/zronyj/fisicoquimica/blob/master/Cuantica/Atomo_de_Hidrogeno.ipynb\" target=\"_parent\"><img src=\"https://colab.research.google.com/assets/colab-badge.svg\" alt=\"Open In Colab\"/></a>"
      ]
    },
    {
      "metadata": {
        "id": "oAF65ZwJaT7l",
        "colab_type": "text"
      },
      "cell_type": "markdown",
      "source": [
        "#¡Te volvemos a dar la bienvenida a otro cuaderno interactivo de Colaboratory!\n",
        "\n",
        "En esta ocasión vamos a realizar un análisis de los orbitales del átomo de hidrógeno. Para ello vamos a utilizar varios enfoques y varios programas, dado que esto ya sienta las bases para la química computacional.\n",
        "\n",
        "Vamos a comenzar importando librerías y definiendo algunas funciones que nos permitirán un cambio de coordenadas y una operación matemática particular: el factorial."
      ]
    },
    {
      "metadata": {
        "id": "8GHNR8G0wcdQ",
        "colab_type": "code",
        "colab": {}
      },
      "cell_type": "code",
      "source": [
        "%matplotlib inline\n",
        "import numpy as np\n",
        "import scipy.special as spe\n",
        "import scipy.constants as cnts\n",
        "import matplotlib.pyplot as plt\n",
        "import matplotlib.cm as cm"
      ],
      "execution_count": 0,
      "outputs": []
    },
    {
      "metadata": {
        "id": "E3h1nA-owuCc",
        "colab_type": "code",
        "colab": {}
      },
      "cell_type": "code",
      "source": [
        "# Cambio de coordenadas de cartesianas a esfericas\n",
        "rho = lambda x, y, z: (x**2 + y**2 + z**2)**0.5\n",
        "theta = lambda x, y: np.arctan(y/x)\n",
        "phi = lambda x, y, z: np.arctan((x**2 + y**2)**0.5 / z)\n",
        "\n",
        "# Funcion para calcular factorial n!\n",
        "factorial = lambda n: np.prod( np.array( [i for i in range(1,n)] ) )"
      ],
      "execution_count": 0,
      "outputs": []
    },
    {
      "metadata": {
        "id": "z3XEvKdhbO5l",
        "colab_type": "text"
      },
      "cell_type": "markdown",
      "source": [
        "## Definiciones\n",
        "Lo primero que tenemos que tener claro es el concepto de que el electrón lo estamos modelando con una función de onda $\\psi \\left( r, \\theta, \\phi \\right)$. Los parámetros $r, \\theta, \\phi$ sustituyen a los tradicionales cartesianos $x, y, z$ porque la ecuación de Schrödinger para el átomo de hidrógeno es más fácil de resolverse en coordenadas esféricas. Como ya has de haber visto en el curso, la ecuación de Schrödinger entonces se separa en una función  $R \\left( r \\right)$ para el radio $r$, una función $S \\left( \\theta \\right)$ para el ángulo polar $\\theta$ y una función $T \\left( \\phi \\right)$ para el ángulo azimutal $\\phi$. Ahora vamos a comenzar a analizar una por una."
      ]
    },
    {
      "metadata": {
        "id": "i5uriO3CdEoN",
        "colab_type": "text"
      },
      "cell_type": "markdown",
      "source": [
        "### Función de onda radial (R)\n",
        "Al resolver la ecuación de Schrödinger para la parte radial, la función de onda $R \\left( r \\right)$ queda definida de la siguiente manera:\n",
        "\n",
        "$$R_{n,l} \\left( r \\right) = \\sqrt{ \\left( \\frac{2}{n} \\right)^{3} \\frac{\\left(n - l - 1\\right)!}{2 n \\left(n + l\\right)!} } \\left( \\frac{2r}{n} \\right)^{l} L_{n-l-1}^{2l+1} \\left[ \\frac{2r}{n} \\right] e^{-\\frac{r}{n}}$$\n",
        "\n",
        "Vale la pena mencionar que $n$ y $l$ son el número cuántico principal y el número cuántico de momento angular.\n",
        "\n",
        "$n$ comprende el conjunto de los números naturales $n = 1, 2, 3, ...$\n",
        "\n",
        "$l$ toma los valores enteros $l \\leq n - 1$.\n",
        "\n",
        "$L_{n-l-1}^{2l+1}$ es el polinomio asociado de Laguerre tomando como argumento $\\left( \\frac{2r}{n} \\right)$.\n",
        "\n",
        "Entonces, para definir las funciones en código y lograr hacer algo con ellas, la función de onda radial se escribirá de la siguiente manera:"
      ]
    },
    {
      "metadata": {
        "id": "7vm9cnmbaKGu",
        "colab_type": "code",
        "colab": {}
      },
      "cell_type": "code",
      "source": [
        "def R(n, l, r):\n",
        "    rho = 2. * r / n\n",
        "    el = rho**l\n",
        "    N_ln = float(factorial(n - l - 1) / (n**4 * factorial(l + n)))**0.5\n",
        "    L_nl = spe.assoc_laguerre(rho, l, n) # Polinomio asociado de Laguerre\n",
        "    return 2 * N_ln * el * L_nl * np.exp(-rho/2.)"
      ],
      "execution_count": 0,
      "outputs": []
    },
    {
      "metadata": {
        "id": "zvbJtZs42zbN",
        "colab_type": "text"
      },
      "cell_type": "markdown",
      "source": [
        "### Función de onda polar (S)\n",
        "Ahora que ya contamos con la función de onda radial, definimos la función de onda polar $S \\left( \\theta \\right)$ de la siguiente manera:\n",
        "\n",
        "$$S_{l,m} \\left( \\theta \\right) = \\sqrt{ \\left( \\frac{2l+1}{2} \\right) \\frac{\\left(l - \\left| m \\right| \\right)!}{\\left(l + \\left| m \\right| \\right)!} } P_{l}^{\\left| m \\right|} \\left[ \\cos \\left( \\theta \\right) \\right]$$\n",
        "\n",
        "En este caso, el número cuántico angular $l$, que toma valores $l \\leq n-1$, es acompañado del número cuántico magnético $m$, el cual toma valores de $-l \\leq m \\leq l$. La función $P_{l}^{\\left| m \\right|}$ es el polinomio asociado de Legendre aplicado a $\\cos \\left( \\theta \\right)$. En código, definimos la función como a continuación:"
      ]
    },
    {
      "metadata": {
        "id": "VyRWFeZd53WC",
        "colab_type": "code",
        "colab": {}
      },
      "cell_type": "code",
      "source": [
        "def S(x, y, l, m):\n",
        "    N_lm = ( (2*l + 1)/2. * float(factorial(l - abs(m)))/factorial(l + abs(m)) )**0.5\n",
        "    t = theta(x, y)\n",
        "    P_lm = spe.lpmv(m, l, np.cos(t)) # Polinomio asociado de Legendre\n",
        "    return N_lm * P_lm"
      ],
      "execution_count": 0,
      "outputs": []
    },
    {
      "metadata": {
        "id": "yyrs0EjHxhol",
        "colab_type": "text"
      },
      "cell_type": "markdown",
      "source": [
        "### Función de onda azimutal (T)\n",
        "Finalmente, pasamos a la función de onda azimutal $T \\left( \\phi \\right)$. Esta se define de la siguiente manera:\n",
        "\n",
        "$$T_{m} \\left( \\phi \\right) = \\frac{1}{\\sqrt{2 \\pi}} e^{i m \\theta}$$\n",
        "\n",
        "Otra vez, resaltamos que $m$ es el número cuántico magnético. Esta función se escribe en código como se muestra aquí:"
      ]
    },
    {
      "metadata": {
        "id": "IHrpFhPfw0a9",
        "colab_type": "code",
        "colab": {}
      },
      "cell_type": "code",
      "source": [
        "def T(x, y, z, m):\n",
        "    p = phi(x, y, z)\n",
        "    return np.exp(m*p*1.j) / (2*np.pi)**0.5"
      ],
      "execution_count": 0,
      "outputs": []
    },
    {
      "metadata": {
        "id": "Y3RGYrP36kTr",
        "colab_type": "text"
      },
      "cell_type": "markdown",
      "source": [
        "### Armónicos esféricos\n",
        "Al explorar la literatura, muchas veces no se encuentra referencia a las dos funciones previamente definidas, sino a una función un poco más misteriosa llamada los *armónicos esféricos* la cual es representada por $Y^{m}_{l} \\left(\\theta, \\phi \\right)$. Esta función no tiene **nada** de misterioso, pues simplemente es el producto de $S_{l,m} \\left( \\theta \\right)$ y de $T_{m} \\left( \\phi \\right)$. Naturalmente, su definición es la siguiente:\n",
        "\n",
        "$$Y^{m}_{l} \\left(\\theta, \\phi \\right) = S_{l,m} \\left( \\theta \\right) T_{m} \\left( \\phi \\right) = \\sqrt{ \\left( \\frac{2l+1}{4 \\pi} \\right) \\frac{\\left(l - \\left| m \\right| \\right)!}{\\left(l + \\left| m \\right| \\right)!} } P_{l}^{\\left| m \\right|} \\left[ \\cos \\left( \\theta \\right) \\right] e^{i m \\theta}$$\n",
        "\n",
        "Para fines prácticos, la definiremos también en código:"
      ]
    },
    {
      "metadata": {
        "id": "sdzGPyCY2r5v",
        "colab_type": "code",
        "colab": {}
      },
      "cell_type": "code",
      "source": [
        "def Y(x, y, z, l, m):\n",
        "  s = S(x, y, l, m)\n",
        "  t = T(x, y, z, m)\n",
        "  return s * t"
      ],
      "execution_count": 0,
      "outputs": []
    },
    {
      "metadata": {
        "id": "e52mu3ae8x9n",
        "colab_type": "text"
      },
      "cell_type": "markdown",
      "source": [
        "### Función de onda del átomo de hidrógeno\n",
        "De igual manera, y para volver a la primera definición, la función de onda completa para el átomo de hidrógeno es el producto de la función de onda radial $R_{n,l} \\left( r \\right)$ y los armónicos esféricos $Y_{l}^{m} \\left( \\theta, \\phi \\right)$. Como es muy poco común encontrar la función dee onda del átomo de hidrógeno completa, representada de manera general, esta se incluirá aquí solo para fines de apreciación.\n",
        "\n",
        "$$\\psi_{n,l,m} \\left(r, \\theta, \\phi \\right) = \\sqrt{ \\left( \\frac{2 l+1}{n^{4} \\pi} \\right) \\frac{\\left(n - l - 1\\right)!}{ \\left(n + l\\right)!} \\frac{\\left(l - \\left| m \\right| \\right)!}{\\left(l + \\left| m \\right| \\right)!}} \\left( \\frac{2r}{n} \\right)^{l} L_{n-l-1}^{2l+1} \\left[ \\frac{2r}{n} \\right] P_{l}^{\\left| m \\right|} \\left[ \\cos \\left( \\theta \\right) \\right] e^{i m \\theta -\\frac{r}{n}}$$\n",
        "\n",
        "Nuevamente para fines prácticos de código, la función de onda, y la misma elevada al cuadrado, se definirán como se muestra en la siguiente celda:"
      ]
    },
    {
      "metadata": {
        "id": "TRdNzpSm8QIX",
        "colab_type": "code",
        "colab": {}
      },
      "cell_type": "code",
      "source": [
        "def Psi(x, y, z, n, l, m):\n",
        "  r = rho(x, y, z)\n",
        "  return R(n, l, r) * Y(x, y, z, l, m)\n",
        "\n",
        "def Psi2(x, y, z, n, l, m):\n",
        "  r = rho(x, y, z)\n",
        "  return (R(n, l, r) * Y(x, y, z, l, m))**2"
      ],
      "execution_count": 0,
      "outputs": []
    },
    {
      "metadata": {
        "id": "wOYvJCKJDad3",
        "colab_type": "text"
      },
      "cell_type": "markdown",
      "source": [
        "## Visualización de orbitales\n",
        "Dado que ya quedó definida la función de onda para el átomo de hidrógeno, ahora es momento de estudiar cómo es que esta se ve y las implicaciones que tienen sus formas en el espacio. A partir de este momento, quedarán definidas una serie de funciones en el cuaderno, cuya finalidad es usarlas, no modificarlas."
      ]
    },
    {
      "metadata": {
        "id": "DPJFPKLoD6Gf",
        "colab_type": "text"
      },
      "cell_type": "markdown",
      "source": [
        "### Función de onda radial\n",
        "Lo primero que se intentará visualizar es la función radial del átomo de hidrógeno para diferentes números cuánticos. Para ello vamos a definir una función:"
      ]
    },
    {
      "metadata": {
        "id": "CgaTldAQCgQt",
        "colab_type": "code",
        "colab": {}
      },
      "cell_type": "code",
      "source": [
        "def orbital_r(n, l, d=[-1,5,0.1], a=[-0.2,1]):\n",
        "    x = np.arange(0, d[1]+0.5, d[2])\n",
        "    vr = np.vectorize(R)\n",
        "    y = vr(n, l, x)\n",
        "    y2 = vr(n, l, x)**2\n",
        "    plt.title(\"Funcion de onda radial del atomo de hidrogeno $H$\")\n",
        "    plt.plot(x, y, \"r--\", label=\"$R$\")\n",
        "    plt.plot(x, y2, \"b-\", label=\"$R^2$\")\n",
        "    plt.legend(bbox_to_anchor=(1.05, 1), loc=2, borderaxespad=0.)\n",
        "    axes = plt.gca()\n",
        "    axes.set_ylim([a[0], a[1]])\n",
        "    axes.set_xlim([d[0], d[1]])\n",
        "    plt.xlabel('Distancia desde el nucleo $r$')\n",
        "    plt.ylabel('Valor de la funcion $R_{n,l} (r)$ y $[ R_{n,l} (r) ]^{2}$')\n",
        "    plt.grid(True)\n",
        "    plt.show()"
      ],
      "execution_count": 0,
      "outputs": []
    },
    {
      "metadata": {
        "id": "lnZq2mpvEPHW",
        "colab_type": "text"
      },
      "cell_type": "markdown",
      "source": [
        "Ahora lo que queda es utilizarla. Se recomiendan las siguientes combinaciones de números cuánticos y parámetros para la función:\n",
        "\n",
        "* `n=1, l=0, d=[-0.5,5,0.1], a=[-0.2,4]`\n",
        "* `n=2, l=0, d=[-0.5,20,0.1], a=[-0.4,0.6]`\n",
        "* `n=2, l=1, d=[-0.5,20,0.1], a=[-0.4,0.6]`\n",
        "* `n=3, l=0, d=[-0.5,50,0.1], a=[-0.3,0.5]`\n",
        "* `n=3, l=1, d=[-0.5,50,0.1], a=[-0.3,0.5]`\n",
        "* `n=3, l=2, d=[-0.5,50,0.1], a=[-0.3,0.5]`\n",
        "\n",
        "También es importante mencionar que se debe poner especial atención a `d` y a `a`, pues estas determinan el tamaño del área donde se está graficando. Esto puede dar mucha información sobre la forma de las funciones de onda y su distribución de probabilidad."
      ]
    },
    {
      "metadata": {
        "id": "gMuZ7l6OENWr",
        "colab_type": "code",
        "colab": {
          "base_uri": "https://localhost:8080/",
          "height": 298
        },
        "outputId": "b1ff4d9f-2ca7-4c9c-fd80-41efb97184b0"
      },
      "cell_type": "code",
      "source": [
        "orbital_r(n=1, l=0, d=[-0.5,5,0.1], a=[-0.2,4])"
      ],
      "execution_count": 9,
      "outputs": [
        {
          "output_type": "display_data",
          "data": {
            "image/png": "[encoded data removed]",
            "text/plain": [
              "<Figure size 432x288 with 1 Axes>"
            ]
          },
          "metadata": {
            "tags": []
          }
        }
      ]
    },
    {
      "metadata": {
        "id": "GxB2TWnbKYyQ",
        "colab_type": "text"
      },
      "cell_type": "markdown",
      "source": [
        "Notemos que estas funciones siempre parten de `0`, pues el eje $x$ representa la distancia del electrón desde el núcleo en cualquier dirección. Esto significa que para lograr una función de $-\\infty$ a $\\infty$, la función $R_{n,l}$ tendría que tomarse positiva para valores positivos de $r$, y negativa para los valores negativos de $r$. Esto significa que la función real se tendría que ver de la siguiente manera:\n",
        "\n",
        "$$R_{n,l} \\left(r\\right) = \\begin{cases} R_{n,l} \\left(r\\right) & r = [0, \\infty)\\\\\n",
        "-R_{n,l} \\left(-r\\right) & r = (-\\infty, 0]\\end{cases}$$\n",
        "\n",
        "En código, esto significaría que la misma función que ya se tiene evaluada, solo se tomaría invertida para los valores negativos. Ya llegaremos a esto en un momento. Por ahora, vamos a dar paso a visualizar las funciones de onda ya con los armónicos esféricos."
      ]
    },
    {
      "metadata": {
        "id": "FRvjGcb_LhCR",
        "colab_type": "text"
      },
      "cell_type": "markdown",
      "source": [
        "### Orbitales del átomo de hidrógeno en secciones transversales 2D\n",
        "\n",
        "En este caso, lo que vamos a visualizar serán cortes transversales del orbital tridimensional en cuestión. Para ello, estaremos trabajando con la función de onda elevada al cuadrado; la probabilidad electrónica en el espacio. "
      ]
    },
    {
      "metadata": {
        "id": "zlSonyhGEn5V",
        "colab_type": "code",
        "colab": {}
      },
      "cell_type": "code",
      "source": [
        "def orbital2D(n=1, l=0, m=0, d=[-4,4,40]):\n",
        "    x = np.linspace(d[0], d[1], d[2])\n",
        "    y = np.linspace(d[0], d[1], d[2])\n",
        "    z = np.linspace(d[0], d[1], d[2])\n",
        "    Xi, Yi, Zi = np.meshgrid(x, y, z)\n",
        "    vf = np.vectorize(Psi2)\n",
        "    orb = vf(x=Xi, y=Yi, z=Zi, n=n, l=l, m=m)\n",
        "    orb = np.real(orb)\n",
        "    plano_xz = orb[:,:,int(d[2]/2)]\n",
        "    plano_yz = orb[:,int(d[2]/2),:]\n",
        "    plano_xy = orb[int(d[2]/2),:,:]\n",
        "    fig = plt.figure(dpi=150)\n",
        "\n",
        "    ax = fig.add_subplot(221)\n",
        "    ax.title.set_text(\"Eje X - plano yz\")\n",
        "    plt.contourf(y, z, plano_yz, 20, cmap=cm.viridis)\n",
        "    plt.colorbar()\n",
        "\n",
        "    ay = fig.add_subplot(222)\n",
        "    ay.title.set_text(\"Eje Y - plano xz\")\n",
        "    plt.contourf(x, z, plano_xz, 20, cmap=cm.viridis)\n",
        "    plt.colorbar()\n",
        "\n",
        "    az = fig.add_subplot(223)\n",
        "    az.title.set_text(\"Eje Z - plano xy\")\n",
        "    plt.contourf(x, y, plano_xy, 20, cmap=cm.viridis)\n",
        "    plt.colorbar()\n",
        "\n",
        "    fig.tight_layout()\n",
        "    fig.set_size_inches(w=5.4,h=4.4)\n",
        "    fig.show()"
      ],
      "execution_count": 0,
      "outputs": []
    },
    {
      "metadata": {
        "id": "HphNtenLN5bw",
        "colab_type": "text"
      },
      "cell_type": "markdown",
      "source": [
        "Al igual que con el ejercicio anterior, se recomiendan las siguientes combinaciones de números cuánticos:\n",
        "* `n=1, l=0, m=0`\n",
        "* `n=2, l=0, m=0, d=[-20, 20, 40]`\n",
        "* `n=2, l=1, m=0, d=[-20, 20, 40]`\n",
        "* `n=2, l=1, m=-1, d=[-20, 20, 40]`\n",
        "* `n=2, l=1, m=1, d=[-40, 40, 80]`\n",
        "* `n=3, l=2, m=0, d=[-40, 40, 80]`\n",
        "* `n=3, l=2, m=-1, d=[-40, 40, 80]`"
      ]
    },
    {
      "metadata": {
        "id": "ly0l7lv6N4ih",
        "colab_type": "code",
        "colab": {
          "base_uri": "https://localhost:8080/",
          "height": 704
        },
        "outputId": "ce5c687d-7b9d-4356-d04b-de4d057289ef"
      },
      "cell_type": "code",
      "source": [
        "%matplotlib inline\n",
        "orbital2D(n=1, l=0, m=0)"
      ],
      "execution_count": 11,
      "outputs": [
        {
          "output_type": "stream",
          "text": [
            "/usr/local/lib/python2.7/dist-packages/matplotlib/figure.py:457: UserWarning: matplotlib is currently using a non-GUI backend, so cannot show the figure\n",
            "  \"matplotlib is currently using a non-GUI backend, \"\n"
          ],
          "name": "stderr"
        },
        {
          "output_type": "display_data",
          "data": {
            "image/png": "[encoded data removed]",
            "text/plain": [
              "<Figure size 810x660 with 6 Axes>"
            ]
          },
          "metadata": {
            "tags": []
          }
        }
      ]
    },
    {
      "metadata": {
        "id": "qcOQZ5y5RTds",
        "colab_type": "text"
      },
      "cell_type": "markdown",
      "source": [
        "Es claro que lo que vimos en estas representaciones difiere de lo que solemos ver en libros excepto por los orbitales *s* (aquellos donde $l$ y $m$ son 0). ¿Podrá tratarse de una falta de comprensión debido a que se está analizando solo los cortes transversales? Para resolver eso, habría que graficar los orbitales en 3 dimensiones completamente. Esta tarea ya no la puede realizar Colaboratory. Es por ello que vamos a trabajar con VMD."
      ]
    },
    {
      "metadata": {
        "id": "QDk2VFbRL3Rm",
        "colab_type": "text"
      },
      "cell_type": "markdown",
      "source": [
        "### Orbitales del átomo de hidrógeno en 3 dimensiones\n",
        "\n",
        "VMD significa **V**isual **M**olecular **D**ynamics, y fue creado para visualizar moléculas de gran tamaño, complejidad y moléculas en movimiento. De todos los formatos que podemos abrir con VMD, vamos a trabajar con un formato `.cub`\n",
        "\n",
        "Para generar documentos en formato `.cub` vamos a definir otra función. Esta, al utilizarla, nos dará todo lo necesario para los documentos en este formato."
      ]
    },
    {
      "metadata": {
        "id": "Vc8nlRPTOkzU",
        "colab_type": "code",
        "colab": {}
      },
      "cell_type": "code",
      "source": [
        "def orbital3D(orbreal=\"\", n=1, l=0, m=0, lims=[-4,4], mesh=0.2):\n",
        "    BOHR = 1.0 / 0.5291772083 # Radio de Bohr\n",
        "    D = [lims[1] - lims[0] for i in range(3)] # Definir distancias en 3 ejes\n",
        "    d = [int(r / mesh) for r in D] # Definir numero de puntos en 3 ejes\n",
        "    x = np.linspace(lims[0], lims[1], d[0]) # Espacio lineal en eje X\n",
        "    y = np.linspace(lims[0], lims[1], d[1]) # Espacio lineal en eje Y\n",
        "    z = np.linspace(lims[0], lims[1], d[2]) # Espacio lineal en eje Z\n",
        "    Xi, Yi, Zi = np.meshgrid(x, y, z) # Construccion de la red 3D\n",
        "    # Aplicando la funcion a la red 3D segun orbitales reales\n",
        "    if orbreal != \"\":\n",
        "        ncte = 1/2**0.5\n",
        "        vf = np.vectorize(Psi) # Vectorizar la funcion\n",
        "        if orbreal == \"py\":\n",
        "            orb = ncte * (vf(x=Xi, y=Yi, z=Zi, n=2, l=1, m=-1) -\n",
        "                          vf(x=Xi, y=Yi, z=Zi, n=2, l=1, m=1))\n",
        "        elif orbreal == \"px\":\n",
        "            orb = 1.j * ncte * (vf(x=Xi, y=Yi, z=Zi, n=2, l=1, m=-1) +\n",
        "                                vf(x=Xi, y=Yi, z=Zi, n=2, l=1, m=1))\n",
        "        elif orbreal == \"pz\":\n",
        "            orb = vf(x=Xi, y=Yi, z=Zi, n=2, l=1, m=0)\n",
        "        elif orbreal == \"dx2-y2\":\n",
        "            orb = ncte * (vf(x=Xi, y=Yi, z=Zi, n=3, l=2, m=2) +\n",
        "                          vf(x=Xi, y=Yi, z=Zi, n=3, l=2, m=-2))\n",
        "        elif orbreal == \"dxy\":\n",
        "            orb = ncte/1.j * (vf(x=Xi, y=Yi, z=Zi, n=3, l=2, m=2) -\n",
        "                              vf(x=Xi, y=Yi, z=Zi, n=3, l=2, m=-2))\n",
        "        elif orbreal == \"dxz\":\n",
        "            orb = ncte/1.j * (vf(x=Xi, y=Yi, z=Zi, n=3, l=2, m=1) +\n",
        "                              vf(x=Xi, y=Yi, z=Zi, n=3, l=2, m=-1))\n",
        "        elif orbreal == \"dyz\":\n",
        "            orb = ncte * (vf(x=Xi, y=Yi, z=Zi, n=3, l=2, m=1) -\n",
        "                          vf(x=Xi, y=Yi, z=Zi, n=3, l=2, m=-1))\n",
        "        elif orbreal == \"dz2\":\n",
        "            orb = vf(x=Xi, y=Yi, z=Zi, n=3, l=2, m=0)\n",
        "        else:\n",
        "            print \"El parametro ingresado no se reconoce.\\nGraficando orbitales por defecto.\"\n",
        "            orb = vf(x=Xi, y=Yi, z=Zi, n=n, l=l, m=m)\n",
        "        orb = orb**2\n",
        "    else:\n",
        "        vf = np.vectorize(Psi2) # Vectorizar la funcion\n",
        "        orb = vf(x=Xi, y=Yi, z=Zi, n=n, l=l, m=m) # Aplicar funcion a la red 3D\n",
        "    orb = np.real(orb)\n",
        "    cl = ['Cube file made with PyChemT by Rony J. Letona\\n',\n",
        "          'Grid built to show the orbitals of the H atom\\n',\n",
        "          '\\t{0}\\t{1:12.6f}\\t{2:12.6f}\\t{3:12.6f}\\n'.format(1, lims[0]*BOHR,\n",
        "                                                            lims[0]*BOHR, lims[0]*BOHR),\n",
        "          '\\t{0}\\t{1:12.6f}\\t{2:12.6f}\\t{3:12.6f}\\n'.format(d[0], BOHR*D[0]/(d[0]-1), 0.0, 0.0),\n",
        "          '\\t{0}\\t{1:12.6f}\\t{2:12.6f}\\t{3:12.6f}\\n'.format(d[1], 0.0, BOHR*D[1]/(d[1]-1), 0.0),\n",
        "          '\\t{0}\\t{1:12.6f}\\t{2:12.6f}\\t{3:12.6f}\\n'.format(d[2], 0.0, 0.0, BOHR*D[2]/(d[2]-1)),\n",
        "          '\\t{0}\\t{1:12.6f}\\t{2:12.6f}\\t{3:12.6f}\\t{4:12.6f}\\n'.format(1, 1, 0, 0, 0)]\n",
        "    temp = ''\n",
        "    for i in range(d[0]):\n",
        "        for j in range(d[1]):\n",
        "            for k in range(d[2]):\n",
        "                temp += '{0:13.5e}\\t'.format(orb[i][j][k] * 10**3)\n",
        "                if ((i*d[1] + j)*d[2] + k + 1) % 6 == 0:\n",
        "                    temp += '\\n'\n",
        "            temp += '\\n'\n",
        "    cl.append(temp)\n",
        "    if orbreal != \"\":\n",
        "        fname = \"[H]_{0}.cub\".format(orbreal)\n",
        "    else:\n",
        "        fname = \"[H]_n{0}_l{1}_m{2}.cub\".format(n, l, m)\n",
        "    with open(fname, 'w') as f:\n",
        "        f.writelines(cl)"
      ],
      "execution_count": 0,
      "outputs": []
    },
    {
      "metadata": {
        "id": "D-uaxpFvSr2o",
        "colab_type": "text"
      },
      "cell_type": "markdown",
      "source": [
        "Para utilizar esta función, vamos a darle los números cuánticos que deseamos y posteriormente vamos a ejecutarla. La función **NO** nos va a devolver algo esta vez. Lo que realmente está pasando es que esta está creando documentos `.cub` en Colaboratory. En seguida te decimos cómo descargarlos. Por el momento, conviene que corras la función con los siguientes números cuánticos:\n",
        "* `n=1, l=0, m=0`\n",
        "* `n=2, l=1, m=-1`\n",
        "* `n=2, l=1, m=0`\n",
        "* `n=2, l=1, m=1`\n",
        "* `n=3, l=2, m=-2`\n",
        "* `n=3, l=2, m=-1`\n",
        "* `n=3, l=2, m=0`\n",
        "* `n=3, l=2, m=1`\n",
        "* `n=3, l=2, m=2`"
      ]
    },
    {
      "metadata": {
        "id": "MGKS9mPnSnWK",
        "colab_type": "code",
        "colab": {}
      },
      "cell_type": "code",
      "source": [
        "orbital3D(n=1, l=0, m=0)"
      ],
      "execution_count": 0,
      "outputs": []
    },
    {
      "metadata": {
        "id": "Klz5KM85Hr99",
        "colab_type": "text"
      },
      "cell_type": "markdown",
      "source": [
        "Para obtener los documentos generados, vamos a la pestaña negra, con una pequeña flecha blanca, que se halla en el borde izquierdo de nuestro cuaderno interactico. Presionamos y nos dirigimos a *Files*. Allí hemos de encontrar los documentos `[H]_nX_lX_mX.cub` que hemos generado previamente. Para descargarlos, hacemos doble click en cada uno."
      ]
    },
    {
      "metadata": {
        "id": "mrjWv72HJC-7",
        "colab_type": "text"
      },
      "cell_type": "markdown",
      "source": [
        "Una vez descargados los documentos `.cub`, nos dirigimos a la carpeta en donde estos se encuentran en nuestro ordenador, y a la par de los documentos creamos uno nuevo llamado `loader.vmd` Este último debe de llevar el siguiente código dentro de él:\n",
        "\n",
        "`foreach i in $argv {`\n",
        "\n",
        "    mol new $i\n",
        "\n",
        "`}`"
      ]
    },
    {
      "metadata": {
        "id": "T0l6TurKKky_",
        "colab_type": "text"
      },
      "cell_type": "markdown",
      "source": [
        "Una vez terminado este documento, procedemos a abrir una línea de comando (Terminal) en la carpeta en donde se halla todo esto y a correr el comando:\n",
        "\n",
        "`vmd -e loader.vmd -argv *.cub`\n",
        "\n",
        "Esto inmediatamente nos ayudará a cargar todos los documentos a VMD."
      ]
    },
    {
      "metadata": {
        "id": "3rRgCfWRMO7u",
        "colab_type": "text"
      },
      "cell_type": "markdown",
      "source": [
        "Para poder visualizar los orbitales que generamos, debemos seguir las siguientes instrucciones:\n",
        "\n",
        "#### Instrucciones\n",
        "1. Ir a la opción *Display*\n",
        "  - Activar *Culling*\n",
        "  - Ir a *Rendermode* y seleccionar *GLSL*\n",
        "2. Ir a la opción *Graphics*\n",
        "  - Abrir la ventana *Representations...*\n",
        "    * Seleccionar una molécula para trabajar con ella (e.g. `[H]_n2_l1_m-1.cub`)\n",
        "    * Cambiar la selección en *Coloring method*, a **ColorID**\n",
        "    * En el menu de al lado derecho, seleccionar un color\n",
        "    * En *Material*, seleccionar **BlownGlass**\n",
        "    * En *Drawing method*, seleccionar **IsoSurface**\n",
        "    * En *Show*, seleccionar **IsoSurface**\n",
        "    * En *Draw*, seleccionar **Solid Surface**\n",
        "    * Mover el carrito en *Isovalue* hasta visualizar los orbitales\n",
        "  - Repetir los mismos pasos anteriores para la siguiente molécula en *Representations...*\n",
        "    * Para evitar superponer tantos orbitales uno sobre otro, hacer doble click en la letra **D** que se halla al lado izquierdo del nombre de la molécula en la ventana `VMD Main`\n",
        "3. Al haber logrado graficar los orbitales, vamos a activar algunos al mismo tiempo para comprender cómo es que se encuentran los electrones en el átomo de hidrógeno\n",
        "  - Activar (mediante la letra **D** a la par del nombre) los siguientes grupos de moléculas y analizar\n",
        "    * Orbital S:\n",
        "      - `[H]_n1_l0_m0.cub`\n",
        "    * Orbitales P:\n",
        "      - `[H]_n2_l1_m-1.cub`\n",
        "      - `[H]_n2_l1_m0.cub`\n",
        "      - `[H]_n2_l1_m1.cub`\n",
        "    * Orbitales D:\n",
        "      - `[H]_n3_l2_m-2.cub`\n",
        "      - `[H]_n3_l2_m-1.cub`\n",
        "      - `[H]_n3_l2_m0.cub`\n",
        "      - `[H]_n3_l2_m1.cub`\n",
        "      - `[H]_n3_l2_m2.cub`\n",
        "  - ¿Son estos orbitales parecidos a lo que hemos visto en la literatura?"
      ]
    },
    {
      "metadata": {
        "id": "wmCNWPp-RYA7",
        "colab_type": "text"
      },
      "cell_type": "markdown",
      "source": [
        "La respuesta es obvia: no lo son. Y es que estos orbitales son la solución tal cual de la función de onda del átomo de hidrógeno para determinados números cuánticos. Esta solo fue elevada al cuadrado, pero *jamás* consideramos que esa solución tiene una parte **imaginaria**! Es por ello que, para evitar esa parte imaginaria, se realizaron combinaciones lineales de las funciones de onda del átomo de hidrógeno a modo de minimizar la cantidad de información imaginaria en los orbitales. Estos nuevos orbitales que se originan de esas combinaciones lineales se llaman **Orbitales reales**.\n",
        "\n",
        "Las combinaciones para los orbitales $p_{m}$ son las siguientes:\n",
        "\n",
        "$$p_{z} = p_{0}$$\n",
        "$$p_{x} = \\frac{1}{\\sqrt{2}} \\left( p_{-1} - p_{+1} \\right)$$\n",
        "$$p_{y} = \\frac{i}{\\sqrt{2}} \\left( p_{-1} + p_{+1} \\right)$$\n",
        "\n",
        "En el caso de los orbitales $d_{m}$, las combinaciones son un tanto más elaboradas en algunos casos:\n",
        "\n",
        "$$d_{z^2} = d_{0}$$\n",
        "$$d_{x^2 - y^2} = \\frac{1}{\\sqrt{2}} \\left( d_{+2} + d_{-2} \\right)$$\n",
        "$$d_{xy} = \\frac{1}{i \\sqrt{2}} \\left( d_{+2} - d_{-2} \\right)$$\n",
        "$$d_{yz} = \\frac{1}{i \\sqrt{2}} \\left( d_{+1} + d_{-1} \\right)$$\n",
        "$$d_{xz} = \\frac{1}{\\sqrt{2}} \\left( d_{+1} - d_{-1} \\right)$$\n",
        "\n",
        "Para generar estos orbitales con nuestra función, lo único que debemos hacer es volverla a correr, pero en vez de darle como argumento los números cuánticos, vamos a darle los nombres de los orbitales reales que deseamos:\n",
        "* `orbreal=\"px\"`\n",
        "* `orbreal=\"py\"`\n",
        "* `orbreal=\"pz\"`\n",
        "* `orbreal=\"dz2\"`\n",
        "* `orbreal=\"dx2-y2\"`\n",
        "* `orbreal=\"dxy\"`\n",
        "* `orbreal=\"dxz\"`\n",
        "* `orbreal=\"dyz\"`"
      ]
    },
    {
      "metadata": {
        "id": "Pv1KtFttRU3p",
        "colab_type": "code",
        "colab": {}
      },
      "cell_type": "code",
      "source": [
        "orbital3D(orbreal=\"px\")"
      ],
      "execution_count": 0,
      "outputs": []
    },
    {
      "metadata": {
        "id": "zxhQRRbmVtMy",
        "colab_type": "text"
      },
      "cell_type": "markdown",
      "source": [
        "Una vez hayamos corrido nuestra función para todos los orbitales reales, vamos a repetir las **Instrucciones** que habíamos utilizado para graficar los orbitales en VMD, y de allí ya sacaremos nuestras conclusiones sobre la forma de los orbitales."
      ]
    },
    {
      "metadata": {
        "id": "0InFMOB-X7mB",
        "colab_type": "text"
      },
      "cell_type": "markdown",
      "source": [
        "## Orbitales y Bases\n",
        "\n",
        "Como habíamos visto anteriormente, la función de onda radial del átomo de hidrógeno resulta tener un problema: es no es una función *suave* (i.e. no es derivable). Esto se debe a que al acercarse al origen, la función presenta un \"pico\", y luego decae en el otro sentido por la forma en que está definida.\n",
        "\n",
        "$$R_{n,l} \\left(r\\right) = \\begin{cases} R_{n,l} \\left(r\\right) & r = [0, \\infty)\\\\\n",
        "-R_{n,l} \\left(-r\\right) & r = (-\\infty, 0]\\end{cases}$$\n"
      ]
    },
    {
      "metadata": {
        "id": "jrGnVItaL4XA",
        "colab_type": "text"
      },
      "cell_type": "markdown",
      "source": [
        "### Orbitales Tipo Slater\n",
        "A los orbitales que de este tipo se les conce como **O**rbitales **T**ipo **S**later o STOs. Computacionalmente, realizar cálculos con estas funciones es un proceso muy costoso; se necesita de mucho poder de procesamiento y mucho tiempo.\n",
        "\n",
        "$$STO \\left( r \\right) = A \\left( S \\right) r^{n-1} \\cdot e^{-\\zeta \\cdot r}$$\n",
        "\n",
        "Para visualizar esto mejor, vamos a redefinir la función de onda radial con un STO para un orbital *s*."
      ]
    },
    {
      "metadata": {
        "id": "aMZ-TZojWKZ1",
        "colab_type": "code",
        "colab": {}
      },
      "cell_type": "code",
      "source": [
        "def STO(r, Z, n=1):\n",
        "  \"\"\" Funcion para un orbital tipo Slater.\n",
        "    Parametros:\n",
        "    r = distancia del electron al nucleo\n",
        "    Z = carga nuclear efectiva\n",
        "    n = numero cuantico principal  \"\"\"\n",
        "  return (Z**3 / np.pi)**0.5 * r**(n-1) * np.exp(-Z*abs(r))\n"
      ],
      "execution_count": 0,
      "outputs": []
    },
    {
      "metadata": {
        "id": "z8TMrXiQeFEm",
        "colab_type": "code",
        "colab": {}
      },
      "cell_type": "code",
      "source": [
        "x1s = np.linspace(0,2.25,100) # Espacio lineal positivo en coordenada X\n",
        "x2s = np.linspace(-2.25,0,100) # Espacio lineal negativo en coordenada X\n",
        "vSTO = np.vectorize(STO) # Vectorizando funcion de onda\n",
        "y1s = vSTO(x1s, 1.24) # Evaluando funcion de onda\n",
        "y2s = y1s[::-1]"
      ],
      "execution_count": 0,
      "outputs": []
    },
    {
      "metadata": {
        "id": "QruSrMQDhSjf",
        "colab_type": "code",
        "colab": {
          "base_uri": "https://localhost:8080/",
          "height": 283
        },
        "outputId": "d06e1772-f7a5-4f5b-b0e4-a43c1026e196"
      },
      "cell_type": "code",
      "source": [
        "fig, ax = plt.subplots()\n",
        "ax.plot(x1s, y1s, 'k-', label='STO')\n",
        "ax.plot(x2s, y2s, 'k-')\n",
        "ax.set_ylabel(\"Funcion de onda / $ R ( r ) $\")\n",
        "ax.set_xlabel(\"Distancia desde el nucleo / $ \\AA $\")\n",
        "ax.set_ylim([0, 0.9])\n",
        "ax.set_xlim([-1.8, 1.8])\n",
        "ax.set_yticklabels([])\n",
        "ax.legend()\n",
        "ax.grid(False)\n",
        "plt.show()"
      ],
      "execution_count": 19,
      "outputs": [
        {
          "output_type": "display_data",
          "data": {
            "image/png": "[encoded data removed]",
            "text/plain": [
              "<Figure size 432x288 with 1 Axes>"
            ]
          },
          "metadata": {
            "tags": []
          }
        }
      ]
    },
    {
      "metadata": {
        "id": "YhGyHKQTi2xb",
        "colab_type": "text"
      },
      "cell_type": "markdown",
      "source": [
        "Dado que los cálculos computacionales ofrecen una visión bastante acertada de lo que sucede con los átomos y las moléculas, se buscó varias alternativas y aproximaciones que lograran hacer que estos se pudieran correr más rápido. La más importante de las aproximaciones fue el aproximar los **STO**s con funciones **gaussianas**.  El problema es que ninguna función gaussiana logra asemejarse del todo a un STO; aproximar un STO con una sola gaussiana no tiene sentido. Es por ello que se utilizó a las gaussianas como *bases* de un espacio vectorial: el de las funciones de onda radiales."
      ]
    },
    {
      "metadata": {
        "id": "t9_qYG9Wv2FM",
        "colab_type": "text"
      },
      "cell_type": "markdown",
      "source": [
        "### Orbitales Tipo Gaussiano\n",
        "Si las gaussianas son las bases del espacio vectorial, entonces es posible construir combinaciones lineales a partir de ellas para aproximarse mejor a los STOs. El problema se torna entonces en ¿*qué gaussianas escoger*? El espacio de soluciones de la ecuación de Schrödinger es un espacio de Hilbert, por lo que existen infinitas bases en él; no existe un conjunto de bases finito que podamos utilizar. Es por ello que lo que se hizo al construir este enfoque fue escoger un número $N$ de gaussianas y realizar regresiones lineales para encontrar sus **coeficientes de contracción** $B_{i}$ y sus **coeficientes exponenciales** $a_{i}$ y así utilizarlas como bases. A los orbitales que se originan de esta manera se les llamó un tiempo **O**rbitales **T**ipo **G**aussiano o GTOs. Hoy en día se les conoce como gaussianas primitivas.\n",
        "\n",
        "$$GTO \\left( r \\right) = \\sum_{i}^{N} B_{i} x^{a} y^{b} z^{c} e^{-a_{i} \\cdot r^2}$$"
      ]
    },
    {
      "metadata": {
        "id": "jvUi6iYWv60M",
        "colab_type": "text"
      },
      "cell_type": "markdown",
      "source": [
        "Al desarrollarse el software de química computacional se pensó que si ya se conoce la forma de la función, y lo importante son los coeficientes, estos últimos se habrían de almacenar en una ubicación determinada (dentro o fuera del programa). A cada colección de coeficientes para modelar los orbitales de uno o varios elementos se les llamó **conjuntos de base**, **sets de base** o simplemente **base**. Un ejemplo de un sitio con muchos sets de bases es [EMSL Basis Set Exchange](https://bse.pnl.gov/bse/portal)."
      ]
    },
    {
      "metadata": {
        "id": "0LIoZDEtv9-V",
        "colab_type": "text"
      },
      "cell_type": "markdown",
      "source": [
        "Volviendo al átomo de hidrógeno, no tomó mucho tiempo para que se dieran cuenta que el número de gaussianas no tenía que ser un número grande. Los resultados de utilizar solamente 3 gaussianas fueron satisfactorios por muchos años. Y dado que lo que se estaba intentando era aproximar las STO, el término **STO-*N*G** se comenzó a utilizar en el software para química computacional. Este significa: Base para orbtiales tipo Slater aproximados con *N* gaussianas primitivas.\n",
        "\n",
        "Para observar cómo es que se aproximó a las STO, vamos a graficar una STO y 3 GTO:\n",
        "* STO-2G\n",
        "* STO-3G\n",
        "* STO-6G\n",
        "\n",
        "Vamos a comenzar definiendo la función gaussiana."
      ]
    },
    {
      "metadata": {
        "id": "Biyp1skMhoRq",
        "colab_type": "code",
        "colab": {}
      },
      "cell_type": "code",
      "source": [
        "def GTO(r, a):\n",
        "  \"\"\" Funcion para un orbital tipo gaussiana.\n",
        "    Parametros:\n",
        "    r = distancia del electron al nucleo\n",
        "    a = coeficiente exponencial  \"\"\"\n",
        "  return (2 * a / np.pi)**(3./4) * np.exp(-a * r**2)"
      ],
      "execution_count": 0,
      "outputs": []
    },
    {
      "metadata": {
        "id": "lvSyxBrmwBRP",
        "colab_type": "text"
      },
      "cell_type": "markdown",
      "source": [
        "Ahora, para realizar las combinaciones lineales, vamos a necesitar los coeficientes de cada gaussiana. Ellos los encontramos en [EMSL Basis Set Exchange](https://bse.pnl.gov/bse/portal), y los introducimos en nuestro código."
      ]
    },
    {
      "metadata": {
        "id": "oXFoJ_oAjJ6G",
        "colab_type": "code",
        "colab": {}
      },
      "cell_type": "code",
      "source": [
        "xg = np.linspace(-2.2,2.2,200)\n",
        "vGTO = np.vectorize(GTO)\n",
        "yg2 = 0.4301*vGTO(xg,1.3098) + 0.6789*vGTO(xg,0.2331)\n",
        "yg3 = 0.1543*vGTO(xg,3.4252) + 0.5353*vGTO(xg,0.6239) + 0.4446*vGTO(xg,0.1688)\n",
        "yg6 = 0.0091*vGTO(xg,35.5232) + 0.0493*vGTO(xg,6.5131) + 0.1685*vGTO(xg,1.8221) + \\\n",
        "      0.3705*vGTO(xg,0.6259) + 0.4165*vGTO(xg,0.2431) + 0.1303*vGTO(xg,0.1001)"
      ],
      "execution_count": 0,
      "outputs": []
    },
    {
      "metadata": {
        "id": "I3nUvYg5wt2_",
        "colab_type": "text"
      },
      "cell_type": "markdown",
      "source": [
        "Finalmente graficamos todo junto."
      ]
    },
    {
      "metadata": {
        "id": "IRnNRBihjzOV",
        "colab_type": "code",
        "colab": {
          "base_uri": "https://localhost:8080/",
          "height": 283
        },
        "outputId": "34f05b0e-14b6-4e24-ca46-1fd4140635f0"
      },
      "cell_type": "code",
      "source": [
        "fig, ax = plt.subplots()\n",
        "ax.plot(x1s, y1s, 'k-', label='STO')\n",
        "ax.plot(x2s, y2s, 'k-')\n",
        "ax.plot(xg, yg2, 'g-', label='STO-2G')\n",
        "ax.plot(xg, yg3, 'r-', label='STO-3G')\n",
        "ax.plot(xg, yg6, 'b-', label='STO-6G')\n",
        "ax.set_ylabel(\"Funcion de onda / $ R ( r ) $\")\n",
        "ax.set_xlabel(\"Distancia desde el nucleo / $ \\AA $\")\n",
        "ax.set_ylim([0, 0.9])\n",
        "ax.set_xlim([-1.8, 1.8])\n",
        "ax.set_yticklabels([])\n",
        "ax.legend()\n",
        "ax.grid(False)\n",
        "plt.show()"
      ],
      "execution_count": 22,
      "outputs": [
        {
          "output_type": "display_data",
          "data": {
            "image/png": "[encoded data removed]",
            "text/plain": [
              "<Figure size 432x288 with 1 Axes>"
            ]
          },
          "metadata": {
            "tags": []
          }
        }
      ]
    },
    {
      "metadata": {
        "id": "LndfgRioxW7b",
        "colab_type": "text"
      },
      "cell_type": "markdown",
      "source": [
        "### Bases\n",
        "Ya con esta pieza de información, ya comenzamos a entender una parte clave sobre cómo funcionan los programas que realizan cálculos cuánticos. La *base mínima* en muchos programas es la **STO-3G**, pero esta solo se conserva con fines de referencia. Más adelante se realizó otro planteamiento: dado que los electrones de valencia cambian al formar un enlace, mientras que los orbitales internos se mantienen casi igual, ¿podría modelarse los electrones de valencia de otra manera?\n",
        "\n",
        "De esta idea surgió las bases de valencia dividida o \"split-valence\". Estas utilizan un número **N** de gaussianas primitivas para los orbitales internos, mientras que los orbitales de valencia los representan mediante combinaciones de diferentes *orbitales*! Cada orbital varía en la carga nuclear efectiva $\\zeta$ (zeta griega) utilizada, pues al momento de formar un enlace, esta carga es percibida de diferente manera por el electrón.\n",
        "\n",
        "Una base muy utilizada aún hoy día es la 6-31G, lo cual significa 6 gaussianas para los orbitales internos, y una combinación de:\n",
        "\n",
        "* un orbital de 3 gaussianas\n",
        "* un orbital de 1 gaussiana\n",
        "\n",
        "para cada orbital de valencia.\n",
        "\n",
        "El hecho de que esta base utiliza dos orbitales para construir el orbital de valencia, implica que utiliza dos valores de $\\zeta$. Por esta razón, la base es llamada de **doble zeta**. Existen bases triple-zeta, cuádruple-zeta, etc. Además de ello, es posible incluir funciones para que los electrones en una molécula sean polarizables o difusos según sea necesario, pero esto ya es tema para otro curso."
      ]
    },
    {
      "metadata": {
        "id": "_udycgP6UxzU",
        "colab_type": "text"
      },
      "cell_type": "markdown",
      "source": [
        "## El Átomo de Hidrógeno en química computacional\n",
        "Para finalizar, vamos a realizar el cálculo del átomo de hidrógeno con base STO-3G en Orca. Para ello vamos a crear un documento de texto `H.inp` en nuestro ordenador y vamos a ingresarle el siguiente texto:"
      ]
    },
    {
      "metadata": {
        "id": "JklzsvJ4VpJ2",
        "colab_type": "text"
      },
      "cell_type": "markdown",
      "source": [
        "`! HF STO-3G`\n",
        "\n",
        "`* xyz 0 2`\n",
        "\n",
        "    H        0.00000        0.00000        0.00000\n",
        "\n",
        "`*`"
      ]
    },
    {
      "metadata": {
        "id": "kZY56z_ZWOpK",
        "colab_type": "text"
      },
      "cell_type": "markdown",
      "source": [
        "Aquí le hemos ordenado a Orca que utilice el método de Hartree-Fock (se verá en el siguiente laboratorio) y la base STO-3G para determinar la energía basal del átomo de hidrógeno con coordenadas 0, 0, 0 en $x$, $y$ y $z$ respectivamente. Para realizar el cálculo se debe abrir una línea de comando (Terminal), cambiar el directorio hacia donde se encuentra nuestro documento `H.inp` y ejecutar el siguiente comando:\n",
        "\n",
        "`orca H.inp > H.out`\n",
        "\n",
        "Después de unos segundos el cálculo habrá terminado. Entonces nos dispondremos a revisar el documento `H.out` buscando la línea: `TOTAL SCF ENERGY`. Anotaremos la energía total en $eV$ encontrada allí y la vamos a comparar con la energía basal del átomo de hidrógeno que determinaremos a continuación:"
      ]
    },
    {
      "metadata": {
        "id": "6z3yOfoxkGdM",
        "colab_type": "code",
        "colab": {}
      },
      "cell_type": "code",
      "source": [
        "# Energia del atomo de hidrogeno\n",
        "def E_h(n):\n",
        "    a = -1 * cnts.m_e * cnts.e**4\n",
        "    d = ( 8 * cnts.h**2 * cnts.epsilon_0**2 * n**2)\n",
        "    return (a / d) / cnts.value(\"electron volt\")"
      ],
      "execution_count": 0,
      "outputs": []
    },
    {
      "metadata": {
        "id": "OkDbmTdIXv9V",
        "colab_type": "code",
        "colab": {
          "base_uri": "https://localhost:8080/",
          "height": 34
        },
        "outputId": "3e99135e-5807-405f-ae89-985150a85478"
      },
      "cell_type": "code",
      "source": [
        "E_h(1)"
      ],
      "execution_count": 24,
      "outputs": [
        {
          "output_type": "execute_result",
          "data": {
            "text/plain": [
              "-13.605693012183629"
            ]
          },
          "metadata": {
            "tags": []
          },
          "execution_count": 24
        }
      ]
    }
  ]
}
