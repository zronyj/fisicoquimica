{
 "cells": [
  {
   "cell_type": "code",
   "execution_count": 1,
   "metadata": {},
   "outputs": [
    {
     "ename": "ImportError",
     "evalue": "No module named ipyvolume",
     "output_type": "error",
     "traceback": [
      "\u001b[0;31m---------------------------------------------------------------------------\u001b[0m",
      "\u001b[0;31mImportError\u001b[0m                               Traceback (most recent call last)",
      "\u001b[0;32m<ipython-input-1-b0f458d3fe4f>\u001b[0m in \u001b[0;36m<module>\u001b[0;34m()\u001b[0m\n\u001b[0;32m----> 1\u001b[0;31m \u001b[0;32mimport\u001b[0m \u001b[0mipyvolume\u001b[0m \u001b[0;32mas\u001b[0m \u001b[0mipy\u001b[0m\u001b[0;34m\u001b[0m\u001b[0m\n\u001b[0m",
      "\u001b[0;31mImportError\u001b[0m: No module named ipyvolume"
     ]
    }
   ],
   "source": [
    "import ipyvolume as ipy"
   ]
  },
  {
   "cell_type": "code",
   "execution_count": 2,
   "metadata": {},
   "outputs": [
    {
     "data": {
      "text/plain": [
       "['Array',\n",
       " 'Figure',\n",
       " 'IPython',\n",
       " 'Image',\n",
       " 'Integer',\n",
       " 'Mesh',\n",
       " 'N',\n",
       " 'PIL',\n",
       " 'Scatter',\n",
       " 'StringIO',\n",
       " 'TransferFunction',\n",
       " 'TransferFunctionJsBumps',\n",
       " 'TransferFunctionWidget3',\n",
       " 'TransferFunctionWidgetJs3',\n",
       " 'Unicode',\n",
       " 'Volume',\n",
       " '__builtins__',\n",
       " '__doc__',\n",
       " '__file__',\n",
       " '__name__',\n",
       " '__package__',\n",
       " '__path__',\n",
       " '__version__',\n",
       " '_jupyter_nbextension_paths',\n",
       " '_version',\n",
       " 'absolute_import',\n",
       " 'animate_glyphs',\n",
       " 'animation_control',\n",
       " 'array_cube_tile_serialization',\n",
       " 'array_rgba_png_serialization',\n",
       " 'array_sequence_serialization',\n",
       " 'array_serialization',\n",
       " 'base64',\n",
       " 'clear',\n",
       " 'closure',\n",
       " 'cls',\n",
       " 'color_serialization',\n",
       " 'controls_light',\n",
       " 'current',\n",
       " 'datasets',\n",
       " 'debounced',\n",
       " 'default_color',\n",
       " 'default_color_selected',\n",
       " 'default_size',\n",
       " 'default_size_selected',\n",
       " 'display',\n",
       " 'division',\n",
       " 'embed',\n",
       " 'examples',\n",
       " 'figure',\n",
       " 'gcc',\n",
       " 'gcf',\n",
       " 'grid_slice',\n",
       " 'image_serialization',\n",
       " 'ipv',\n",
       " 'ipyvolume',\n",
       " 'ipywebrtc',\n",
       " 'ipywidgets',\n",
       " 'logger',\n",
       " 'logging',\n",
       " 'movie',\n",
       " 'name',\n",
       " 'np',\n",
       " 'os',\n",
       " 'plot',\n",
       " 'plot_isosurface',\n",
       " 'plot_mesh',\n",
       " 'plot_plane',\n",
       " 'plot_surface',\n",
       " 'plot_trisurf',\n",
       " 'plot_wireframe',\n",
       " 'pylab',\n",
       " 'pythreejs',\n",
       " 'quickquiver',\n",
       " 'quickscatter',\n",
       " 'quickvolshow',\n",
       " 'quiver',\n",
       " 'reduce_size',\n",
       " 'save',\n",
       " 'savefig',\n",
       " 'scatter',\n",
       " 'screenshot',\n",
       " 'selector_default',\n",
       " 'semver_range_frontend',\n",
       " 'serialize',\n",
       " 'show',\n",
       " 'squarelim',\n",
       " 'style',\n",
       " 'style_name',\n",
       " 'styles',\n",
       " 'texture_serialization',\n",
       " 'time',\n",
       " 'trait',\n",
       " 'trait_name',\n",
       " 'traitlets',\n",
       " 'traittypes',\n",
       " 'transfer_function',\n",
       " 'transferfunction',\n",
       " 'utils',\n",
       " 'uuid',\n",
       " 'validate',\n",
       " 'view',\n",
       " 'volshow',\n",
       " 'warnings',\n",
       " 'widgets',\n",
       " 'x',\n",
       " 'xlabel',\n",
       " 'xlim',\n",
       " 'xyzlabel',\n",
       " 'xyzlim',\n",
       " 'ylabel',\n",
       " 'ylim',\n",
       " 'zlabel',\n",
       " 'zlim']"
      ]
     },
     "execution_count": 2,
     "metadata": {},
     "output_type": "execute_result"
    }
   ],
   "source": [
    "dir(ipy)"
   ]
  },
  {
   "cell_type": "code",
   "execution_count": 3,
   "metadata": {},
   "outputs": [],
   "source": [
    "import numpy as np"
   ]
  },
  {
   "cell_type": "code",
   "execution_count": 4,
   "metadata": {},
   "outputs": [],
   "source": [
    "x = np.linspace(-4,4,40)\n",
    "y = np.linspace(-4,4,40)\n",
    "z = np.linspace(-4,4,40)\n",
    "W = np.meshgrid(x, y, z)"
   ]
  },
  {
   "cell_type": "code",
   "execution_count": 5,
   "metadata": {},
   "outputs": [],
   "source": [
    "import atomo_h"
   ]
  },
  {
   "cell_type": "code",
   "execution_count": 11,
   "metadata": {},
   "outputs": [
    {
     "ename": "RuntimeError",
     "evalue": "No surface found at the given iso value.",
     "output_type": "error",
     "traceback": [
      "\u001b[0;31m---------------------------------------------------------------------------\u001b[0m",
      "\u001b[0;31mRuntimeError\u001b[0m                              Traceback (most recent call last)",
      "\u001b[0;32m<ipython-input-11-bb774b4b344e>\u001b[0m in \u001b[0;36m<module>\u001b[0;34m()\u001b[0m\n\u001b[0;32m----> 1\u001b[0;31m \u001b[0mcosa\u001b[0m \u001b[0;34m=\u001b[0m \u001b[0matomo_h\u001b[0m\u001b[0;34m.\u001b[0m\u001b[0morbital3D\u001b[0m\u001b[0;34m(\u001b[0m\u001b[0mn\u001b[0m\u001b[0;34m=\u001b[0m\u001b[0;36m1\u001b[0m\u001b[0;34m,\u001b[0m\u001b[0ml\u001b[0m\u001b[0;34m=\u001b[0m\u001b[0;36m0\u001b[0m\u001b[0;34m,\u001b[0m\u001b[0mm\u001b[0m\u001b[0;34m=\u001b[0m\u001b[0;36m0\u001b[0m\u001b[0;34m,\u001b[0m\u001b[0md\u001b[0m\u001b[0;34m=\u001b[0m\u001b[0;34m[\u001b[0m\u001b[0;34m-\u001b[0m\u001b[0;36m4\u001b[0m\u001b[0;34m,\u001b[0m\u001b[0;36m4\u001b[0m\u001b[0;34m,\u001b[0m\u001b[0;36m100\u001b[0m\u001b[0;34m]\u001b[0m\u001b[0;34m)\u001b[0m\u001b[0;34m\u001b[0m\u001b[0m\n\u001b[0m",
      "\u001b[0;32m/home/zronyj/GitHub/PracticasFQ/fisicoquimica/Cuantica/atomo_h.py\u001b[0m in \u001b[0;36morbital3D\u001b[0;34m(n, l, m, Z, d)\u001b[0m\n\u001b[1;32m    163\u001b[0m     \u001b[0mipy\u001b[0m\u001b[0;34m.\u001b[0m\u001b[0mFigure\u001b[0m\u001b[0;34m(\u001b[0m\u001b[0mcontrols\u001b[0m\u001b[0;34m=\u001b[0m\u001b[0mTrue\u001b[0m\u001b[0;34m)\u001b[0m\u001b[0;34m\u001b[0m\u001b[0m\n\u001b[1;32m    164\u001b[0m     \u001b[0;32mif\u001b[0m \u001b[0mTrue\u001b[0m\u001b[0;34m:\u001b[0m\u001b[0;34m\u001b[0m\u001b[0m\n\u001b[0;32m--> 165\u001b[0;31m         \u001b[0mipy\u001b[0m\u001b[0;34m.\u001b[0m\u001b[0mpylab\u001b[0m\u001b[0;34m.\u001b[0m\u001b[0mplot_isosurface\u001b[0m\u001b[0;34m(\u001b[0m\u001b[0mO\u001b[0m\u001b[0;34m,\u001b[0m\u001b[0mlevel\u001b[0m\u001b[0;34m=\u001b[0m\u001b[0mO\u001b[0m\u001b[0;34m.\u001b[0m\u001b[0mmean\u001b[0m\u001b[0;34m(\u001b[0m\u001b[0;34m)\u001b[0m\u001b[0;34m*\u001b[0m\u001b[0;36m1.5\u001b[0m\u001b[0;34m,\u001b[0m\u001b[0mcolor\u001b[0m\u001b[0;34m=\u001b[0m\u001b[0;34m(\u001b[0m\u001b[0;36m0\u001b[0m\u001b[0;34m,\u001b[0m\u001b[0;36m0.5\u001b[0m\u001b[0;34m,\u001b[0m\u001b[0;36m0.9\u001b[0m\u001b[0;34m,\u001b[0m\u001b[0;36m1.0\u001b[0m\u001b[0;34m)\u001b[0m\u001b[0;34m)\u001b[0m\u001b[0;34m\u001b[0m\u001b[0m\n\u001b[0m\u001b[1;32m    166\u001b[0m     \u001b[0;32melse\u001b[0m\u001b[0;34m:\u001b[0m\u001b[0;34m\u001b[0m\u001b[0m\n\u001b[1;32m    167\u001b[0m         ipy.volshow(O, level=[0.7,0.5,0.3], opacity=[0,0.03,0.06],\n",
      "\u001b[0;32m/home/zronyj/GitHub/PracticasFQ/fisicoquimica/Cuantica/Cuantica/local/lib/python2.7/site-packages/ipyvolume/pylab.pyc\u001b[0m in \u001b[0;36mplot_isosurface\u001b[0;34m(data, level, color, wireframe, surface, controls, extent)\u001b[0m\n\u001b[1;32m    591\u001b[0m         \u001b[0mlevel\u001b[0m \u001b[0;34m=\u001b[0m \u001b[0mnp\u001b[0m\u001b[0;34m.\u001b[0m\u001b[0mmedian\u001b[0m\u001b[0;34m(\u001b[0m\u001b[0mdata\u001b[0m\u001b[0;34m)\u001b[0m\u001b[0;34m\u001b[0m\u001b[0m\n\u001b[1;32m    592\u001b[0m     \u001b[0;32mif\u001b[0m \u001b[0mhasattr\u001b[0m\u001b[0;34m(\u001b[0m\u001b[0mmeasure\u001b[0m\u001b[0;34m,\u001b[0m \u001b[0;34m'marching_cubes_lewiner'\u001b[0m\u001b[0;34m)\u001b[0m\u001b[0;34m:\u001b[0m\u001b[0;34m\u001b[0m\u001b[0m\n\u001b[0;32m--> 593\u001b[0;31m         \u001b[0mvalues\u001b[0m \u001b[0;34m=\u001b[0m \u001b[0mmeasure\u001b[0m\u001b[0;34m.\u001b[0m\u001b[0mmarching_cubes_lewiner\u001b[0m\u001b[0;34m(\u001b[0m\u001b[0mdata\u001b[0m\u001b[0;34m,\u001b[0m \u001b[0mlevel\u001b[0m\u001b[0;34m)\u001b[0m\u001b[0;34m\u001b[0m\u001b[0m\n\u001b[0m\u001b[1;32m    594\u001b[0m     \u001b[0;32melse\u001b[0m\u001b[0;34m:\u001b[0m\u001b[0;34m\u001b[0m\u001b[0m\n\u001b[1;32m    595\u001b[0m         \u001b[0mvalues\u001b[0m \u001b[0;34m=\u001b[0m \u001b[0mmeasure\u001b[0m\u001b[0;34m.\u001b[0m\u001b[0mmarching_cubes\u001b[0m\u001b[0;34m(\u001b[0m\u001b[0mdata\u001b[0m\u001b[0;34m,\u001b[0m \u001b[0mlevel\u001b[0m\u001b[0;34m)\u001b[0m\u001b[0;34m\u001b[0m\u001b[0m\n",
      "\u001b[0;32m/home/zronyj/GitHub/PracticasFQ/fisicoquimica/Cuantica/Cuantica/local/lib/python2.7/site-packages/skimage/measure/_marching_cubes_lewiner.pyc\u001b[0m in \u001b[0;36mmarching_cubes_lewiner\u001b[0;34m(volume, level, spacing, gradient_direction, step_size, allow_degenerate, use_classic)\u001b[0m\n\u001b[1;32m    152\u001b[0m \u001b[0;34m\u001b[0m\u001b[0m\n\u001b[1;32m    153\u001b[0m     \u001b[0;32mif\u001b[0m \u001b[0;32mnot\u001b[0m \u001b[0mlen\u001b[0m\u001b[0;34m(\u001b[0m\u001b[0mvertices\u001b[0m\u001b[0;34m)\u001b[0m\u001b[0;34m:\u001b[0m\u001b[0;34m\u001b[0m\u001b[0m\n\u001b[0;32m--> 154\u001b[0;31m         \u001b[0;32mraise\u001b[0m \u001b[0mRuntimeError\u001b[0m\u001b[0;34m(\u001b[0m\u001b[0;34m'No surface found at the given iso value.'\u001b[0m\u001b[0;34m)\u001b[0m\u001b[0;34m\u001b[0m\u001b[0m\n\u001b[0m\u001b[1;32m    155\u001b[0m \u001b[0;34m\u001b[0m\u001b[0m\n\u001b[1;32m    156\u001b[0m     \u001b[0;31m# Output in z-y-x order, as is common in skimage\u001b[0m\u001b[0;34m\u001b[0m\u001b[0;34m\u001b[0m\u001b[0m\n",
      "\u001b[0;31mRuntimeError\u001b[0m: No surface found at the given iso value."
     ]
    }
   ],
   "source": [
    "cosa = atomo_h.orbital3D(n=1,l=0,m=0,d=[-4,4,100])"
   ]
  },
  {
   "cell_type": "code",
   "execution_count": null,
   "metadata": {},
   "outputs": [],
   "source": []
  },
  {
   "cell_type": "code",
   "execution_count": 7,
   "metadata": {},
   "outputs": [
    {
     "ename": "IndentationError",
     "evalue": "unexpected indent (<ipython-input-7-faeea67442dd>, line 2)",
     "output_type": "error",
     "traceback": [
      "\u001b[0;36m  File \u001b[0;32m\"<ipython-input-7-faeea67442dd>\"\u001b[0;36m, line \u001b[0;32m2\u001b[0m\n\u001b[0;31m    ipy.pylab.plot_isosurface(cosa,level=cosa.mean(),color=(0,0.5,0.9,1.0))\u001b[0m\n\u001b[0m    ^\u001b[0m\n\u001b[0;31mIndentationError\u001b[0m\u001b[0;31m:\u001b[0m unexpected indent\n"
     ]
    }
   ],
   "source": [
    "ipy.clear()\n",
    "    ipy.pylab.plot_isosurface(cosa,level=cosa.mean(),color=(0,0.5,0.9,1.0))"
   ]
  },
  {
   "cell_type": "code",
   "execution_count": null,
   "metadata": {},
   "outputs": [],
   "source": [
    "ipy.show()"
   ]
  },
  {
   "cell_type": "code",
   "execution_count": null,
   "metadata": {},
   "outputs": [],
   "source": [
    "ipy.clear()\n",
    "ipy.Figure(controls=True)\n",
    "ipy.volshow(cosa,level=[0.3,0.5,0.7],opacity=[0.005,0.07,0.1],\n",
    "            controls=False, level_width=0.15)"
   ]
  },
  {
   "cell_type": "code",
   "execution_count": null,
   "metadata": {},
   "outputs": [],
   "source": [
    "ipy.show()"
   ]
  },
  {
   "cell_type": "code",
   "execution_count": null,
   "metadata": {},
   "outputs": [],
   "source": []
  },
  {
   "cell_type": "code",
   "execution_count": null,
   "metadata": {},
   "outputs": [],
   "source": []
  },
  {
   "cell_type": "code",
   "execution_count": null,
   "metadata": {},
   "outputs": [],
   "source": []
  }
 ],
 "metadata": {
  "kernelspec": {
   "display_name": "Python 2",
   "language": "python",
   "name": "python2"
  },
  "language_info": {
   "codemirror_mode": {
    "name": "ipython",
    "version": 2
   },
   "file_extension": ".py",
   "mimetype": "text/x-python",
   "name": "python",
   "nbconvert_exporter": "python",
   "pygments_lexer": "ipython2",
   "version": "2.7.15"
  }
 },
 "nbformat": 4,
 "nbformat_minor": 2
}
