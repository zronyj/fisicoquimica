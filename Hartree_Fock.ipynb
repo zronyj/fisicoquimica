{
  "nbformat": 4,
  "nbformat_minor": 0,
  "metadata": {
    "colab": {
      "name": "Hartree-Fock.ipynb",
      "version": "0.3.2",
      "provenance": [],
      "include_colab_link": true
    },
    "kernelspec": {
      "name": "python2",
      "display_name": "Python 2"
    }
  },
  "cells": [
    {
      "cell_type": "markdown",
      "metadata": {
        "id": "view-in-github",
        "colab_type": "text"
      },
      "source": [
        "<a href=\"https://colab.research.google.com/github/zronyj/fisicoquimica/blob/master/Hartree_Fock.ipynb\" target=\"_parent\"><img src=\"https://colab.research.google.com/assets/colab-badge.svg\" alt=\"Open In Colab\"/></a>"
      ]
    },
    {
      "cell_type": "markdown",
      "metadata": {
        "id": "fHtTz5JDacMO",
        "colab_type": "text"
      },
      "source": [
        "# ¡Te volvemos a dar la bienvenida a otro cuaderno interactivo de Colaboratory!\n",
        "\n",
        "Esta es la última práctica del curso. En esta ocasión vamos a conectar todo lo que hemos visto sobre mecánica cuántica con química. Para ello vamos a recordar algunas cosas, definir unas nuevas y poner en práctica un algoritmo que nos permitirá encontrar la energía de una molécula.\n",
        "\n",
        "Vamos a comenzar importando las librerías necesarias."
      ]
    },
    {
      "cell_type": "code",
      "metadata": {
        "id": "W9ynqz_zabWX",
        "colab_type": "code",
        "colab": {}
      },
      "source": [
        "%matplotlib inline\n",
        "from sympy import *\n",
        "import numpy as np\n",
        "import matplotlib.pyplot as plt\n",
        "import matplotlib.cm as cm"
      ],
      "execution_count": 0,
      "outputs": []
    },
    {
      "cell_type": "markdown",
      "metadata": {
        "id": "l61PPYxib1_U",
        "colab_type": "text"
      },
      "source": [
        "## Bases para H y He\n",
        "Ahora, recordando lo aprendido con el átomo de hidrógeno, vamos a comenzar definiendo las bases para el hidrógeno y el helio con 2, 3 y 6 Gaussianas."
      ]
    },
    {
      "cell_type": "code",
      "metadata": {
        "id": "utN8XY28bzqa",
        "colab_type": "code",
        "colab": {}
      },
      "source": [
        "# Sets de bases\n",
        "GTO = {\"H\":{}, \"He\":{}}\n",
        "\n",
        "# Coeficiente exponencial Alfa para Hidrogeno\n",
        "GTO[\"H\"][\"a\"] = {2:[1.309756377, 0.233135974],\n",
        "                 3:[3.42525091, 0.62391373, 0.16885540], \n",
        "                 6:[35.52322122, 6.513143725, 1.822142904,\n",
        "                    0.625955266, 0.243076747, 0.100112428]}\n",
        "\n",
        "# Coeficiente C para Hidrogeno\n",
        "GTO[\"H\"][\"c\"] = {2:[0.430128498, 0.678913531],\n",
        "                 3:[0.15432897, 0.53532814, 0.44463454],\n",
        "                 6:[0.00916359628, 0.04936149294, 0.16853830490,\n",
        "                    0.37056279970, 0.41649152980, 0.13033408410]}\n",
        "\n",
        "# Coeficiente exponencial Alfa para Helio\n",
        "GTO[\"He\"][\"a\"] = {2:[2.4328790, 0.4330510],\n",
        "                  3:[6.36242139, 1.15892300, 0.31364979],\n",
        "                  6:[65.98456824, 12.09819836, 3.384639924,\n",
        "                     1.162715163, 0.451516322, 0.185959356]}\n",
        "\n",
        "# Coeficiente C para Helio\n",
        "GTO[\"He\"][\"c\"] = {2:[0.430128498, 0.678913531],\n",
        "                  3:[0.15432897, 0.53532814, 0.44463454],\n",
        "                  6:[0.00916359628, 0.04936149294, 0.16853830490,\n",
        "                     0.37056279970, 0.41649152980, 0.13033408410]}"
      ],
      "execution_count": 0,
      "outputs": []
    },
    {
      "cell_type": "markdown",
      "metadata": {
        "id": "4s3VDkGPcHI1",
        "colab_type": "text"
      },
      "source": [
        "Ahora, debemos comprender un par de conceptos importantes:\n",
        "* Los orbitales de un átomo se ven afectados al ser estos parte de una molécula.\n",
        "* La manera en que estos orbitales se ven afectados se puede entender como los coeficientes de una combinación lineal; cada vector es una función de onda.\n",
        "* En base al método variacional, la cantidad a minimizar es la energía de la molécula.\n",
        "\n",
        "Comencemos a ver esto de manera matemática antes de llegar a la parte computacional."
      ]
    },
    {
      "cell_type": "markdown",
      "metadata": {
        "id": "0SxjKR42n4Cp",
        "colab_type": "text"
      },
      "source": [
        "## Método Variacional\n",
        "Vamos a asumir que la función de onda de una molécula es una función $\\widetilde{\\Phi}$. Entonces, la energía de la molécula podemos representarla como $E [ \\widetilde{\\Phi} ]$. En este caso, vamos a decir que $E$ es un funcional de $\\widetilde{\\Phi}$, pues se puede entender como la función de una función. Entonces, $E$ lo definimos como:\n",
        "\n",
        "$$E [ \\widetilde{\\Phi} ] = \\frac{\\langle \\widetilde{\\Phi} | \\hat{H} | \\widetilde{\\Phi} \\rangle}{\\langle \\widetilde{\\Phi} | \\widetilde{\\Phi} \\rangle} \\rightarrow E_{0}$$\n",
        "\n",
        "En donde $\\hat{H}$ es el operador Hamiltoniano, y lo que se busca es encontrar una función de onda que lleve a la energía mínima posible.\n",
        "\n",
        "Entonces, lo primero que haremos será comenzar definiendo a $\\widetilde{\\Phi}$ como una función lineal de prueba.\n",
        "\n",
        "$$| \\widetilde{\\Phi} \\rangle = \\sum_{i=1}^{N} c_i | \\Psi_i \\rangle$$\n",
        "\n",
        "Esta función debe cumplir con lo planteado en el método variacional; eso es, buscar que la energía sea mínima.\n",
        "\n",
        "$$E [ \\widetilde{\\Phi} ] = \\langle \\widetilde{\\Phi} | \\hat{H} | \\widetilde{\\Phi} \\rangle = \\sum_{ij} c_{i}^{*} c_{j} \\langle \\Psi_i | H | \\Psi_j \\rangle$$\n",
        "\n",
        "En donde $H$ es una matriz cuyos elementos son el hamiltoniano para cada función de onda. A continuación, siguiendo con el método variacional, revisaremos que las funciones de onda estén normalizadas.\n",
        "\n",
        "$$\\langle \\widetilde{\\Phi} | \\widetilde{\\Phi} \\rangle - 1 = \\sum_{ij} c_{i}^{*} c_{j} \\langle \\Psi_i | \\Psi_j \\rangle - 1 = 0$$\n",
        "\n",
        "Ahora, vamos a minimizar el funcional $E$ con respecto de los coeficientes $c_{i}^{*}$ y $c_{j}$. El problema, claramente, es que es un problema de muchas dimensiones y tenemos una restricción: la normalización. Es por eso que procedemos con el método de multiplicadores de Lagrange.\n",
        "\n",
        "$$L = \\langle \\widetilde{\\Phi} | \\hat{H} | \\widetilde{\\Phi} \\rangle - E [ \\langle \\widetilde{\\Phi} | \\widetilde{\\Phi} \\rangle - 1 ]$$\n",
        "\n",
        "La última expresión, ya evaluando la función de prueba se ve de la siguiente manera:\n",
        "\n",
        "$$L = \\sum_{ij} c_{i}^{*} c_{j} \\langle \\Psi_i | H | \\Psi_j \\rangle - E [ \\sum_{ij} c_{i}^{*} c_{j} \\langle \\Psi_i | \\Psi_j \\rangle - 1 ]$$\n",
        "\n",
        "Siguiendo el método de multiplicadores de Lagrange, ahora es momento de calcular la derivada de esto. Posteriormente, esa derivada se igualará a cero para encontrar los máximos y mínimos.\n",
        "\n",
        "$$\\partial L = \\sum_{ij} \\partial c_{i}^{*} c_{j} \\langle \\Psi_i | H | \\Psi_j \\rangle - E [ \\sum_{ij} \\partial c_{i}^{*} c_{j} \\langle \\Psi_i | \\Psi_j \\rangle ] +\\\\ \\sum_{ij} c_{i}^{*} \\partial c_{j} \\langle \\Psi_i | H | \\Psi_j \\rangle - E [ \\sum_{ij} c_{i}^{*} \\partial c_{j} \\langle \\Psi_i | \\Psi_j \\rangle ]$$\n",
        "\n",
        "Después de rearreglar algunos términos y factorizar otros, llegamos a la siguiente expresión:\n",
        "\n",
        "$$\\partial L = \\sum_{i} \\partial c_{i}^{*} \\left[ \\sum_{j} c_{j} \\langle \\Psi_i | H | \\Psi_j \\rangle - E c_{j} \\langle \\Psi_i | \\Psi_j \\rangle \\right] +\\\\ \\sum_{j} \\partial c_{j} \\left[ \\sum_{i} c_{i}^{*} \\langle \\Psi_i | H | \\Psi_j \\rangle - E c_{i}^{*} \\langle \\Psi_i | \\Psi_j \\rangle \\right] = 0$$\n",
        "\n",
        "Debemos recordar que $H$ es una matriz, $\\Psi$ es un vector y que las combinaciones lineales se pueden ver como multiplicaciones de vectores (productos punto). Entonces, las siguientes expresiones pueden reescribirse como matrices:\n",
        "* $\\langle \\Psi_i | H | \\Psi_j \\rangle = H_{ij}$\n",
        "* $\\langle \\Psi_i | \\Psi_j \\rangle = S_{ij}$\n",
        "\n",
        "Finalmente, si la segunda sumatoria de la anterior ecuación es compleja ($c_{i}^{*}$ es el conjugado complejo de $c_{i}$), vamos a ocuparnos nada más de la primera parte: nos interesa el resultado real.\n",
        "\n",
        "$$\\sum_{i} \\partial c_{i}^{*} \\left[ \\sum_{j} H_{ij} c_{j} - E S_{ij} c_{j} \\right] = 0$$\n",
        "\n",
        "De esta ecuación queda que $\\sum_{j} H_{ij} c_{j} - E S_{ij} c_{j} = 0$, pues la constante no puede ser cero. Y al contemplar la multiplicación de matrices y vectores que se está haciendo dentro del paréntesis, esta ecuación se re-escribe como:\n",
        "\n",
        "$$ H c = E S c $$\n",
        "\n",
        "En este punto es conveniente notar que de trabajarse con **bases** y no las funciones directamente, el vector $c$ ya no es un vector, sino una matriz $C$, pues se necesita minimizar los coeficientes para cada función de base del orbital atómico. En este caso, la ecuación se torna:\n",
        "\n",
        "$$ H C = S C E $$\n",
        "\n",
        "Un último detalle es que la matriz $S$ surge de que se asume que las funciones $| \\Psi \\rangle$ no son ortonormales, por lo que el producto de dos funciones de estas da origen a coeficientes que se le llamarán de traslape. Es por ello que la matriz se conoce como matriz de traslape."
      ]
    },
    {
      "cell_type": "markdown",
      "metadata": {
        "id": "xHoOuumUIOEe",
        "colab_type": "text"
      },
      "source": [
        "## Hartree-Fock\n",
        "\n",
        "En las ecuaciones anteriores la matriz $H$ es un Hamiltoniano, pero no se especificó *qué* Hamiltoniano. Cuando se toma en cuenta la energía cinética de los electrones, potencial de atracción hacia el núcleo y potencial de repulsión entre electrones (cada par de electrones) para todos los electrones en una molécula, aparecen dos términos en el re-arreglo de variables del Hamiltoniano. Estos se reconocen como el operador de Coulomb $J$ y el operador de intercambio $K$.\n",
        "\n",
        "El primero se origina de la energía potencial de repulsión de cada par de electrones en el mismo orbital, mientras que el segundo se origina de la antisimetría de la función de onda; es un resultado de la determinante de Slater. Entonces, al tomar en cuenta el Hamiltoniano para 1 electrón, el operador de Coulomb y el operador de Intercambio ($H^{1\\ elec} + J + K$) se obtiene un nuevo Hamiltoniano que ya contempla la interacción entre cada par de electrones en una molécula. Este nuevo Hamiltoniano se conoce como el operador de Fock.\n",
        "\n",
        "$$F = H^{1\\ elec} + J + K = H^{1\\ elec} + G$$\n",
        "\n",
        "Al sustituir esto en las ecuaciones anteriores, se obtiene lo siguiente:\n",
        "\n",
        "$$ F C = S C E $$\n",
        "\n",
        "Esto casi se parece a un nuevo problema de valores propios. Sin embargo, sabemos que si el operador de Fock toma en cuenta la repulsión entre electrones y el intercambio de los mismos (para eso se asume que sabemos *a priori* su función de onda), este operador es una función de $C$.\n",
        "\n",
        "$$F = F \\left( C \\right)$$\n",
        "\n",
        "Esto implica que el problema requiere de una solución iterativa; no es posible hacerlo de manera analítica. Sin embargo, antes de entrar en ese procedimiento, vamos a terminar de resolver la ecuación matricial. (Esto sería más fácil si $S$ fuera la matriz identidad.) Es por eso que vamos a transformar el problema para convertir a $S$ en la matriz identidad.\n",
        "\n",
        "Partiendo de que $S_{ij} = \\langle \\psi_i | \\psi_j \\rangle$ y las funciones $\\Psi$ no son ortonormales, podemos plantear que exista una matriz de coeficientes $X_{ij}$ que, multiplicados por cada función de onda, construyan un conjunto ortonormal.\n",
        "\n",
        "$$ \\psi_{i}' = \\sum_j X_{ji} \\psi_{j}$$\n",
        "\n",
        "Esto llevaría a que el producto de las funciones ya no sea la matriz $S$, sino la matriz identidad.\n",
        "\n",
        "$$ \\langle \\psi_{i}' | \\psi_{j}' \\rangle = X^{\\dagger} S X = U$$\n",
        "\n",
        "En donde $U$ es la matriz identidad. Esto implica que diagonalizar $S$ para encontrar $X$ podría simplificar el problema. Una forma de hacer esto es mediante *ortogonalización canónica*.\n",
        "\n",
        "$$ X_{ij} = \\frac{U_{ij}}{s^{1/2}_{j}}$$\n",
        "\n",
        "Aquí $s^{1/2}$ es una matriz diagonal cuyas entradas son la raíz cuadrada de los valores propios de $S$.\n",
        "\n",
        "Ahora vamos a definir que la inversa de $X$ multiplicada por la matriz de coeficientes da como resultado una nueva matriz $C' = X^{-1} C$. Re-arreglando, nos damos cuenta de que $C = X C'$ y aquí es donde el problema se puede resolver.\n",
        "\n",
        "$$ F X C' = S X C' E $$\n",
        "\n",
        "Multiplicando por $X^{\\dagger}$ por el lado izquierdo, se obtiene:\n",
        "\n",
        "$$ \\left( X^{\\dagger} F X \\right) C' = \\left( X^{\\dagger} S X \\right) C' E $$\n",
        "\n",
        "Definiendo una nueva forma del operador $F$ a partir de la ecuación anterior $F' = X^{\\dagger} F X$, y recordando cómo se convertía $S$ en la matriz identidad, llegamos a la expresión:\n",
        "\n",
        "$$ F' C' = C' E $$\n",
        "\n",
        "Este problema ya se puede resolver al diagonalizar $F'$. Para obtener $C$, solo debemos recordar cómo definimos $C'$."
      ]
    },
    {
      "cell_type": "markdown",
      "metadata": {
        "id": "s2Nvdh9hSS1J",
        "colab_type": "text"
      },
      "source": [
        "## Algoritmo de Hartree-Fock\n",
        "\n",
        "Ahora que ya hemos comprendido cómo llegar a estas ecuaciones, vamos a proceder a incluir el código."
      ]
    },
    {
      "cell_type": "markdown",
      "metadata": {
        "id": "F-4SvMoMSdFP",
        "colab_type": "text"
      },
      "source": [
        "### Diagonalización\n",
        "Lo primero que necesitamos son funciones para poder diagonalizar matrices de las maneras antes mencionadas."
      ]
    },
    {
      "cell_type": "code",
      "metadata": {
        "id": "ZDx_us1LcAxq",
        "colab_type": "code",
        "colab": {}
      },
      "source": [
        "def diagon(m=np.matrix([[1,-0.5],[-2,1.5]])):\n",
        "    m_eigenval, m_eigenvec = np.linalg.eig(m)\n",
        "    mvp = np.matrix(np.diag([1/i**0.5 for i in m_eigenval.tolist()]),\n",
        "                    dtype=np.float64)\n",
        "    return (m_eigenvec * mvp)[::-1]\n",
        "\n",
        "def diagon2(m=np.matrix([[1,-0.5],[-2,1.5]])):\n",
        "    if abs(m[0,0] - m[1,1]) < 1E-8:\n",
        "        temp = np.pi/4\n",
        "    elif (abs(m[0,1]) < 1E-8) or (abs(m[1,0]) < 1E-8):\n",
        "        temp = np.pi/4\n",
        "    else:\n",
        "        temp = 0.5 * np.arctan( 2*m[0,1] / (m[0,0] - m[1,1]) )\n",
        "    ed = np.cos(temp)\n",
        "    ec = np.sin(temp)\n",
        "    return np.matrix( [[ed,ec],[ec,-ed]] )"
      ],
      "execution_count": 0,
      "outputs": []
    },
    {
      "cell_type": "markdown",
      "metadata": {
        "id": "EvgSn8_3SxDP",
        "colab_type": "text"
      },
      "source": [
        "### Hamiltoniano y Matriz de Traslape\n",
        "Ahora procederemos a definir el Hamiltoniano para moléculas diatómicas y su correspondiente matriz de traslape. Es importante notar que cada entrada de cada matriz debe de ser construida independientemente. Además, el Hamiltoniano se compone de una parte de energía potencial y otra de energía cinética."
      ]
    },
    {
      "cell_type": "code",
      "metadata": {
        "id": "Rn5g7eKjSvy0",
        "colab_type": "code",
        "colab": {}
      },
      "source": [
        "# Elementos individuales de la matriz de traslape\n",
        "def s (b1 = GTO[\"H\"], b2 = GTO[\"H\"], r = 0, b = 3):\n",
        "    suv = 0\n",
        "    for i in range(b-1,-1,-1):\n",
        "        for j in range(b-1,-1,-1):\n",
        "            du = (2*b1[\"a\"][b][i]/np.pi)**0.75 * b1[\"c\"][b][i]\n",
        "            dv = (2*b2[\"a\"][b][j]/np.pi)**0.75 * b2[\"c\"][b][j]\n",
        "            Sa = b1[\"a\"][b][i] + b2[\"a\"][b][j]\n",
        "            suv += du * dv * (np.pi/Sa)**1.5 * \\\n",
        "            np.exp( -((b1[\"a\"][b][i] * b2[\"a\"][b][j])/Sa) * r**2 )\n",
        "    return suv\n",
        "\n",
        "# Matriz de traslape\n",
        "def S(R = [0,1.4632], b1 = GTO[\"H\"], b2 = GTO[\"H\"], b = 3):\n",
        "    MS = [[R[0]-R[0],R[1]-R[0]],\n",
        "          [R[0]-R[1],R[1]-R[1]]]\n",
        "    for i in range(2):\n",
        "        for j in range(2):\n",
        "            MS[i][j] = s(b1=b1, b2=b2, r=MS[i][j], b=b)\n",
        "    return np.matrix(MS, dtype=np.float64)"
      ],
      "execution_count": 0,
      "outputs": []
    },
    {
      "cell_type": "code",
      "metadata": {
        "id": "PYH9D9LiThNl",
        "colab_type": "code",
        "colab": {}
      },
      "source": [
        "# Elementos individuales de la matriz de energia cinetica\n",
        "def t(b1 = GTO[\"H\"], b2 = GTO[\"H\"], r = 0, b = 3):\n",
        "    tuv = 0\n",
        "    for i in range(b-1,-1,-1):\n",
        "        for j in range(b-1,-1,-1):\n",
        "            du = (2*b1[\"a\"][b][i]/np.pi)**0.75 * b1[\"c\"][b][i]\n",
        "            dv = (2*b2[\"a\"][b][j]/np.pi)**0.75 * b2[\"c\"][b][j]\n",
        "            Sa = b1[\"a\"][b][i] + b2[\"a\"][b][j]\n",
        "            Ma = b1[\"a\"][b][i] * b2[\"a\"][b][j]\n",
        "            tuv += du * dv * (Ma/Sa) * (3 - 2*Ma/Sa * r**2) * \\\n",
        "            (np.pi/Sa)**1.5 * np.exp( -((Ma/Sa) * r**2 ))\n",
        "    return tuv\n",
        "\n",
        "# Matriz de energia cinetica\n",
        "def T(R=[0,1.4632], b1 = GTO[\"H\"], b2 = GTO[\"H\"], b = 3):\n",
        "    MT = [[R[0]-R[0],R[1]-R[0]],\n",
        "          [R[0]-R[1],R[1]-R[1]]]\n",
        "    for i in range(2):\n",
        "        for j in range(2):\n",
        "            MT[i][j] = t(b1=b1, b2=b2, r=MT[i][j], b=b)\n",
        "    return np.matrix(MT, dtype=np.float64)"
      ],
      "execution_count": 0,
      "outputs": []
    },
    {
      "cell_type": "code",
      "metadata": {
        "id": "ZM85JsuOTqjv",
        "colab_type": "code",
        "colab": {}
      },
      "source": [
        "# Elementos individuales de la matriz de energia potencial\n",
        "def v (b1 = GTO[\"H\"], b2 = GTO[\"H\"], r=1.4632, Rp=[0,0,1,1], Z=[1,1], b = 3):\n",
        "    vuv = 0\n",
        "    for k in range(len(Z)):\n",
        "        R = [l*r for l in Rp[2*k:2*k+2]]\n",
        "        for i in range(b-1,-1,-1):\n",
        "            for j in range(b-1,-1,-1):\n",
        "                du = (2*b1[\"a\"][b][i]/np.pi)**0.75 * b1[\"c\"][b][i]\n",
        "                dv = (2*b2[\"a\"][b][j]/np.pi)**0.75 * b2[\"c\"][b][j]\n",
        "                Sa = b1[\"a\"][b][i] + b2[\"a\"][b][j]\n",
        "                Rr = (b1[\"a\"][b][i] * R[0] + b2[\"a\"][b][j] * R[1]) / Sa\n",
        "                Ruv = abs(R[1]-R[0])\n",
        "                Rur = (Rr - Ruv)**2\n",
        "                t = Sa*Rur\n",
        "                if t < 1E-5:\n",
        "                    F = 1 - t\n",
        "                else:\n",
        "                    F = 0.5*(np.pi/t)**0.5 * erf(t**0.5)\n",
        "                temp = (-2*du*dv*np.pi*Z[k]/Sa) * F * \\\n",
        "                np.exp( -((b1[\"a\"][b][i] * b2[\"a\"][b][j])/Sa * Ruv**2 ))\n",
        "                vuv += N(temp)\n",
        "    return vuv\n",
        "\n",
        "# Matriz de energia potencial\n",
        "def V (r = 1.4632, Z=[1,1], b1 = GTO[\"H\"], b2 = GTO[\"H\"], b = 3):\n",
        "    MV = [[[0,0,1,1],[0,1,1,0]],\n",
        "          [[1,0,0,1],[1,1,0,0]]]\n",
        "    for i in range(2):\n",
        "        for j in range(2):\n",
        "            MV[i][j] = v(b1=b1, b2=b2, r=r, Rp=MV[i][j], Z=Z, b=b)\n",
        "    return np.matrix(MV, dtype=np.float64)"
      ],
      "execution_count": 0,
      "outputs": []
    },
    {
      "cell_type": "code",
      "metadata": {
        "id": "7G33pV4QT0ux",
        "colab_type": "code",
        "colab": {}
      },
      "source": [
        "# Hamiltoniano\n",
        "def H (R=[0,1.4632], Z=[1,1], b1 = GTO[\"H\"], b2 = GTO[\"H\"], b = 3):\n",
        "    th = T(R = R, b1 = b1, b2 = b2, b = 3)\n",
        "    vh = V(r = R[1] - R[0], Z = Z, b1 = b1, b2 = b2, b = b)\n",
        "    h = th + vh\n",
        "    return h"
      ],
      "execution_count": 0,
      "outputs": []
    },
    {
      "cell_type": "markdown",
      "metadata": {
        "id": "Lj1j1LeGUD4e",
        "colab_type": "text"
      },
      "source": [
        "### Operadores de Coulomb y de Intercambio\n",
        "Ya contamos con $S$ y con $H^{1\\ elec}$. Sin embargo, como habíamos visto, el operador de nuestro problema es el operador de Fock. Este toma en cuenta las energías de repulsión electrónica $J$ y de intercambio $K$. Estos operadores tienen como entradas integrales de dos electrones: es la tarea **más demandante** de este algoritmo."
      ]
    },
    {
      "cell_type": "code",
      "metadata": {
        "id": "BDO141CQT6p_",
        "colab_type": "code",
        "colab": {}
      },
      "source": [
        "# Integrales de dos electrones <ij|kl>\n",
        "def ide (o = [0,0,0,0], R=[0,1], b1 = GTO[\"H\"], b2 = GTO[\"H\"], b = 3):\n",
        "    res = 0\n",
        "    base = [b1,b2]\n",
        "    for i in range(b-1,-1,-1):\n",
        "        for j in range(b-1,-1,-1):\n",
        "            for k in range(b-1,-1,-1):\n",
        "                for l in range(b-1,-1,-1):\n",
        "                    s1 = base[o[0]][\"a\"][b][i] + base[o[1]][\"a\"][b][j]\n",
        "                    s2 = base[o[2]][\"a\"][b][k] + base[o[3]][\"a\"][b][l]\n",
        "                    s3 = s1 + s2\n",
        "                    m1 = base[o[0]][\"a\"][b][i] * base[o[1]][\"a\"][b][j]\n",
        "                    m2 = base[o[2]][\"a\"][b][k] * base[o[3]][\"a\"][b][l]\n",
        "                    index = [i,j,k,l]\n",
        "                    d = [(2*base[o[m]][\"a\"][b][index[m]]/np.pi)**0.75 * \\\n",
        "                         base[o[m]][\"c\"][b][index[m]] for m in range(4)]\n",
        "                    contrac = np.prod(d)\n",
        "                    R1 = R[o[1]] - R[o[0]]\n",
        "                    R2 = R[o[3]] - R[o[2]]\n",
        "                    Rr = (base[o[0]][\"a\"][b][i] * R[o[0]] + \\\n",
        "                          base[o[1]][\"a\"][b][j] * R[o[1]]) / s1\n",
        "                    Rs = (base[o[2]][\"a\"][b][k] * R[o[2]] + \\\n",
        "                          base[o[3]][\"a\"][b][l] * R[o[3]]) / s2\n",
        "                    Rsr = (Rs - Rr)**2\n",
        "                    piterm = 2*np.pi**2.5 / (s1*s2*s3**0.5)\n",
        "                    expterm = np.exp(-m1/s1 * R1**2 - m2/s2 * R2**2)\n",
        "                    t = s1 * s2 / s3 * Rsr\n",
        "                    if t < 1E-5:\n",
        "                        F = 1 - t\n",
        "                    else:\n",
        "                        F = 0.5 * (np.pi/t)**0.5 * erf(t**0.5)\n",
        "                    res += contrac * piterm * expterm * F\n",
        "    return N(res)"
      ],
      "execution_count": 0,
      "outputs": []
    },
    {
      "cell_type": "code",
      "metadata": {
        "id": "e5dL9NWeU4Tl",
        "colab_type": "code",
        "colab": {}
      },
      "source": [
        "# Matriz de dos electrones\n",
        "def G (r=1.4632, p=np.matrix([[0,0],[0,0]], dtype=np.float64), b1=GTO[\"H\"],\n",
        "       b2=GTO[\"H\"], b=3):\n",
        "    g = [[0,0],[0,0]]\n",
        "    for u in range(2):\n",
        "        for v in range(2):\n",
        "            for w in range(2):\n",
        "                for x in range(2):\n",
        "                    # Operador de Coulomb\n",
        "                    j = ide(o=[u,v,w,x], R=[0,r], b1=b1, b2=b2, b=b)\n",
        "                    # Operador de intercambio\n",
        "                    k = ide(o=[u,x,w,v], R=[0,r], b1=b1, b2=b2, b=b)\n",
        "                    g[u][v] += p[w,x] * ( j - 0.5 * k )\n",
        "    return np.matrix(g, dtype=np.float64)"
      ],
      "execution_count": 0,
      "outputs": []
    },
    {
      "cell_type": "markdown",
      "metadata": {
        "id": "4cFKfZdyVZTK",
        "colab_type": "text"
      },
      "source": [
        "### Matriz de densidad de carga (P)\n",
        "Para facilitar muchas cosas dentro de este algoritmo, y para poder extraer otro tipo de información a partir de las funciones de onda, se define la matriz de densidad de carga (o de orden de enlace) $P$. Esta se construye a partir de la matriz de coeficientes $C$.\n",
        "\n",
        "$$P_{uv} = 2 \\sum_{a}^{N/2} C_{ua}^{*} C_{va}$$\n",
        "\n",
        "En donde $a$ indica el orbital molecular que se está utilizando y $u$ y $v$ son los índices de los coeficientes de cada orbital atómico. Esta matriz nos será útil en el algoritmo de Hartree-Fock para muchas cosas. Sin embargo, no debemos olvidar que $P$ depende de $C$."
      ]
    },
    {
      "cell_type": "code",
      "metadata": {
        "id": "EXuY1_S6VCn1",
        "colab_type": "code",
        "colab": {}
      },
      "source": [
        "def P (C=np.matrix([[0,0],[0,0]], dtype=np.float64)):\n",
        "    p = [[C[0,0]*C[0,0], C[0,0]*C[1,0]],\n",
        "         [C[1,0]*C[0,0], C[1,0]*C[1,0]]]\n",
        "    return 2*np.matrix(p, dtype=np.float64)"
      ],
      "execution_count": 0,
      "outputs": []
    },
    {
      "cell_type": "markdown",
      "metadata": {
        "id": "Nl3WzdNzX_U8",
        "colab_type": "text"
      },
      "source": [
        "### Método del Campo Autoconsistente (Self Consistent Field method [SCF])\n",
        "\n",
        "Ya habiendo definido todas las matrices, lo que queda es ponerlas a funcionar según lo que vimos con anterioridad. Cada paso se evidencia en los comentarios."
      ]
    },
    {
      "cell_type": "code",
      "metadata": {
        "id": "Ehod1vyCX1TH",
        "colab_type": "code",
        "colab": {}
      },
      "source": [
        "def SCF (r = 1.4632, Z=[1,1], b1 = GTO[\"H\"], b2 = GTO[\"H\"], b = 3, vbs=False):\n",
        "    R = [0, r]\n",
        "    if vbs: print(\"*) Generando matriz de traslape S.\")\n",
        "    s_scf = S(R=R, b1=b1, b2=b2, b=b)\n",
        "    if vbs: print(\"\\n*) Generando hamiltoniano H.\")\n",
        "    h_scf = H(R=R, Z=Z, b1=b1, b2=b2, b=b)\n",
        "        \n",
        "    # Diagonalizar matriz S y hallar matriz X\n",
        "    if vbs: print(\"\\n*) Diagonalizando matriz S y hallando matriz diagonal X.\")\n",
        "    X = diagon(m=s_scf)\n",
        "    Xa = X.getH()\n",
        "    \n",
        "    # Estimar matriz de densidad P\n",
        "    if vbs: print(\"\\n*) Creando matriz de densidad P.\")\n",
        "    p_scf = np.matrix([[0,0],[0,0]], dtype=np.float64)\n",
        "    \n",
        "    # Comenzar proceso iterativo\n",
        "    if vbs: print(\"\\n*) Comenzando con el SCF.\")\n",
        "    for iteracion in range(50):\n",
        "        # Construir matriz de Fock F\n",
        "        # F = H + G\n",
        "        if vbs: print(\"\\n**) Generando la matriz de Fock: calculando \\\n",
        "integrales de dos electrones.\")\n",
        "        g_scf = G(r=r, p=p_scf, b1=b1, b2=b2, b=b)\n",
        "        f_scf = h_scf + g_scf\n",
        "        \n",
        "        # Construir matriz F'\n",
        "        # F' = X_adj * F * X\n",
        "        if vbs: print(\"**) Cambiando la base de F.\")\n",
        "        f_tra = Xa * f_scf * X\n",
        "        \n",
        "        # Diagonalizar matriz F y constuir matriz C'\n",
        "        if vbs: print(\"**) Diagonalizando F' y generando C'.\")\n",
        "        c_tra = diagon2(m=f_tra)\n",
        "        \n",
        "        # Construir matriz C\n",
        "        # C = X * C'\n",
        "        if vbs: print(\"**) Construyendo matriz de coeficientes C.\")\n",
        "        c_scf = X * c_tra\n",
        "        \n",
        "        # Construir matriz P a partir de matriz C\n",
        "        if vbs: print(\"**) Recalculando matriz de densidad P.\")\n",
        "        p_temp = P(C=c_scf)\n",
        "        \n",
        "        print(\"\\nConcluida la \" + str(iteracion + 1) + \". iteracion.\\n\")\n",
        "        \n",
        "        # Revisar convergencia\n",
        "        if np.linalg.norm(p_temp - p_scf) < 1E-4:\n",
        "            print(\"\\n\\n-->El campo autoconsistente SI ha convergido!\")\n",
        "            return {\"S\":s_scf,\"H\":h_scf,\"X\": X,\"F\":f_scf,\"C\":c_scf,\"P\":p_temp}\n",
        "        else:\n",
        "            p_scf = p_temp\n",
        "    print(\"\\n\\n-->El campo autoconsistente NO ha convergido!\\nRevisar supuestos.\")\n",
        "    return {\"S\":s_scf,\"H\":h_scf,\"X\": X,\"F\":f_scf,\"C\":c_scf,\"P\":p_temp}"
      ],
      "execution_count": 0,
      "outputs": []
    },
    {
      "cell_type": "markdown",
      "metadata": {
        "id": "LmrugiF2Yzay",
        "colab_type": "text"
      },
      "source": [
        "Como podemos notar, lo que hace el SCF es realizar una serie de cálculos para determinar $C$, de allí calcular $P$ y volver a comenzar el algoritmo si es que este no ha convergido. La matriz $P$ se utiliza dentro del cálculo de la matriz de dos electrones $G$. Cuando el algoritmo termina de iterar (tiene un límite de 50 iteraciones), este devuelve el valor de todas las matrices encontradas. Estas las interpretaremos posteriormente.\n",
        "\n",
        "Por ahora, vamos a correr el método de Hartree-Fock (o SCF) por primera vez."
      ]
    },
    {
      "cell_type": "code",
      "metadata": {
        "id": "SN_hxR2nYQ51",
        "colab_type": "code",
        "colab": {}
      },
      "source": [
        "# Vamos a calcular una molécula de hidrogeno H2\n",
        "# Para ello la distancia interatomica sera: r = 1.4632\n",
        "# La carga del nucleo de ambos atomos sera: Z = [1,1]\n",
        "# Las bases que vamos a utilizar son las del hidrogeno: b1 = GTO[\"H\"], b2 = GTO[\"H\"]\n",
        "# El numero de bases a utilizar esta vez sera: b = 3\n",
        "# Vamos a pedir a la funcion que nos explique que esta pasando: vbs = True\n",
        "\n",
        "# Para correr el SCF solo lo llamamos y almacenamos los resultados\n",
        "resultados = SCF(r = 1.4632, Z=[1,1], b1 = GTO[\"H\"], b2 = GTO[\"H\"], b = 3, vbs = True)"
      ],
      "execution_count": 0,
      "outputs": []
    },
    {
      "cell_type": "markdown",
      "metadata": {
        "id": "j-9ztVgxbUR2",
        "colab_type": "text"
      },
      "source": [
        "## Resultados\n",
        "\n",
        "Para comprender mejor lo que acabamos de calcular, recordemos que lo que buscábamos eran los coeficientes de las funciones de onda que hicieran mínima la energía de la molécula. Primero, vamos a ver los coeficientes."
      ]
    },
    {
      "cell_type": "code",
      "metadata": {
        "id": "Pry2nlXPa3MY",
        "colab_type": "code",
        "colab": {}
      },
      "source": [
        "print resultados[\"C\"]"
      ],
      "execution_count": 0,
      "outputs": []
    },
    {
      "cell_type": "markdown",
      "metadata": {
        "id": "lrqZASaqcLu6",
        "colab_type": "text"
      },
      "source": [
        "Esto no es muy revelador, pero al menos notamos que obtuvimos un resultado: existen coeficientes! Ahora comencemos a calcular algo más interesante con la demás información."
      ]
    },
    {
      "cell_type": "markdown",
      "metadata": {
        "id": "JnNVmA3dcGIt",
        "colab_type": "text"
      },
      "source": [
        "### Energía de cada orbital\n",
        "La energía de cada orbital es la diagonal de $F'$. Este resultado no lo obtuvimos, así que lo debemos calcular."
      ]
    },
    {
      "cell_type": "code",
      "metadata": {
        "id": "22_Chvzgb_om",
        "colab_type": "code",
        "colab": {}
      },
      "source": [
        "def ener_orbs(x, f):\n",
        "    return np.diag(x.getH() * f * x)"
      ],
      "execution_count": 0,
      "outputs": []
    },
    {
      "cell_type": "code",
      "metadata": {
        "id": "1hNy2EpbctkA",
        "colab_type": "code",
        "colab": {}
      },
      "source": [
        "print ener_orbs(resultados[\"X\"], resultados[\"F\"])"
      ],
      "execution_count": 0,
      "outputs": []
    },
    {
      "cell_type": "markdown",
      "metadata": {
        "id": "V1di4B1Qc0wp",
        "colab_type": "text"
      },
      "source": [
        "De aquí no solo obtuvimos dos valores de energía, sino que podemos comenzar a entender que existen dos orbitales en la molécula de hidrógeno: uno de alta energía y uno de baja energía."
      ]
    },
    {
      "cell_type": "markdown",
      "metadata": {
        "id": "4umL-VSrdfOL",
        "colab_type": "text"
      },
      "source": [
        "### Energía electrónica\n",
        "La energía electrónica de la molécula se puede calcular a partir del operador de Fock. El procedimiento matemático implica descomponer el operador en un Hamiltoniano, la matriz de densidad de carga y la matriz de Fock propiamente."
      ]
    },
    {
      "cell_type": "code",
      "metadata": {
        "id": "5YV8olJmczGK",
        "colab_type": "code",
        "colab": {}
      },
      "source": [
        "def ener_elec(p, h, f):\n",
        "    m = 0.5 * p.reshape(1,4) * (h + f).reshape(1,4).T\n",
        "    return m[0,0]"
      ],
      "execution_count": 0,
      "outputs": []
    },
    {
      "cell_type": "code",
      "metadata": {
        "id": "S2T7aR0Adzrb",
        "colab_type": "code",
        "colab": {}
      },
      "source": [
        "print ener_elec(resultados[\"P\"], resultados[\"H\"], resultados[\"F\"])"
      ],
      "execution_count": 0,
      "outputs": []
    },
    {
      "cell_type": "markdown",
      "metadata": {
        "id": "7rrMwIt4d911",
        "colab_type": "text"
      },
      "source": [
        "Este último resultado no contempla la energía potencial de repulsión entre los núcleos atómicos. Pero para fines de rupturas y formaciones de enlaces, esta energía es la más importante."
      ]
    },
    {
      "cell_type": "markdown",
      "metadata": {
        "id": "8Vn-UGoiegRc",
        "colab_type": "text"
      },
      "source": [
        "### Energía total\n",
        "Finalmente, si deseamos la energía interna total de la molécula, solo incluimos la energía de repulsión nuclear."
      ]
    },
    {
      "cell_type": "code",
      "metadata": {
        "id": "pgc-Voyqd8Cm",
        "colab_type": "code",
        "colab": {}
      },
      "source": [
        "def ener_tot(r=1.4632, Z=[1,1], elec=0):\n",
        "    nuc = Z[0] * Z[1] / r\n",
        "    return nuc + elec"
      ],
      "execution_count": 0,
      "outputs": []
    },
    {
      "cell_type": "code",
      "metadata": {
        "id": "fgiLOYLEeqiN",
        "colab_type": "code",
        "colab": {}
      },
      "source": [
        "electronica = ener_elec(resultados[\"P\"], resultados[\"H\"], resultados[\"F\"])\n",
        "print ener_tot(elec = electronica)"
      ],
      "execution_count": 0,
      "outputs": []
    },
    {
      "cell_type": "markdown",
      "metadata": {
        "id": "_CXsynZOe2TU",
        "colab_type": "text"
      },
      "source": [
        "Con esto ya habríamos logrado obtener un resultado satisfactorio si lo que estuviéramos haciendo fuera un estudio termodinámico. Sin embargo, usualmente es mejor *ver* la molécula."
      ]
    },
    {
      "cell_type": "markdown",
      "metadata": {
        "id": "df4Mjrr0gEBz",
        "colab_type": "text"
      },
      "source": [
        "## Representaciones\n",
        "Lo primero que vamos a visualizar son los orbitales en 1D. Así sabremos dónde encontrar al electrón.\n",
        "\n",
        "Comenzamos definiendo la función de onda."
      ]
    },
    {
      "cell_type": "code",
      "metadata": {
        "id": "VLX1eOtQe1O2",
        "colab_type": "code",
        "colab": {}
      },
      "source": [
        "a, r, R = symbols(\"alpha r R\")\n",
        "\n",
        "phi = (2 * a / pi)**(3./4) * exp(-a * (r - R)**2)\n",
        "\n",
        "def Phi (rn, Ru, base = GTO[\"H\"], b = 3):\n",
        "    wf = 0\n",
        "    for i in range(b):\n",
        "        wf += base[\"c\"][b][i] * \\\n",
        "        phi.subs([(a, base[\"a\"][b][i]), (r, rn), (R, Ru)])\n",
        "    return wf\n",
        "\n",
        "def Psi (r, R, base = GTO[\"H\"], b = 3):\n",
        "    wf = 0\n",
        "    for i in range(b):\n",
        "        a = base[\"a\"][b][i]\n",
        "        wf += base[\"c\"][b][i] * (2 * a / np.pi)**0.75 * np.exp(-a * (r - R)**2)\n",
        "    return wf"
      ],
      "execution_count": 0,
      "outputs": []
    },
    {
      "cell_type": "markdown",
      "metadata": {
        "id": "xieXiwUYgWWt",
        "colab_type": "text"
      },
      "source": [
        "Luego creamos la función para graficar los orbitales.\n",
        "En este punto es **muy importante** notar qué parámetros utiliza esta función, pues hasta aquí es donde se comienza a utilizar la información importante que habíamos obtenido del SCF."
      ]
    },
    {
      "cell_type": "code",
      "metadata": {
        "id": "OjJti58KgSV6",
        "colab_type": "code",
        "colab": {}
      },
      "source": [
        "def orbital (c, r = 1.4632, b1 = GTO[\"H\"], b2 = GTO[\"H\"], b = 3):\n",
        "    dom = np.arange(-3.5,r+3.55,0.05)\n",
        "    psi1 = [c[0,0] * Psi(x, 0, base=b1, b=b) + c[1,0] * \\\n",
        "            Psi(x, r, base=b2, b=b) for x in dom]\n",
        "    psi2 = [c[0,1] * Psi(x, 0, base=b1, b=b) + c[1,1] * \\\n",
        "            Psi(x, r, base=b2, b=b) for x in dom]\n",
        "    psi3 = [y**2 for y in psi1]\n",
        "    psi4 = [y**2 for y in psi2]\n",
        "    plt.title(\"Funciones de onda resultantes del calculo HF-SCF\")\n",
        "    plt.plot(dom, psi1, \"r--\", label=\"$\\Psi_1$\")\n",
        "    plt.plot(dom, psi2, \"b--\", label=\"$\\Psi_2$\")\n",
        "    plt.plot(dom, psi3, \"g-\", label=\"$\\Psi_{1}^{2}$\")\n",
        "    plt.plot(dom, psi4, \"k-\", label=\"$\\Psi_{2}^{2}$\")\n",
        "    plt.legend(bbox_to_anchor=(1.05, 1), loc=2, borderaxespad=0.)\n",
        "    plt.grid(True)\n",
        "    plt.show()"
      ],
      "execution_count": 0,
      "outputs": []
    },
    {
      "cell_type": "markdown",
      "metadata": {
        "id": "q94zeoTPgo1-",
        "colab_type": "text"
      },
      "source": [
        "Ahora procedemos a graficar los orbitales."
      ]
    },
    {
      "cell_type": "code",
      "metadata": {
        "id": "tpanqyDEgnU3",
        "colab_type": "code",
        "colab": {}
      },
      "source": [
        "orbital(resultados[\"C\"], r = 1.4632, b1 = GTO[\"H\"], b2 = GTO[\"H\"], b = 3)"
      ],
      "execution_count": 0,
      "outputs": []
    },
    {
      "cell_type": "markdown",
      "metadata": {
        "id": "WBdzYL0shIis",
        "colab_type": "text"
      },
      "source": [
        "En este caso obtuvimos 4 funciones de onda en la gráfica:\n",
        "1. La función de onda que junta más a los electrones.\n",
        "2. La función de onda que aleja más a los electrones.\n",
        "3. La función de onda que acerca más a los electrones, elevada al cuadrado (densidad electrónica).\n",
        "4. La función de onda que aleja más a los electrones, elevada al cuadrado (densidad electrónica).\n",
        "\n",
        "Si recordamos, habíamos obtenido **2** energías correspondientes a 2 orbitales para una misma molécula del átomo de hidrógeno. ¿Qué podrán significar 2 orbitales?\n",
        "\n",
        "Pasemos a la gráfica en 2D."
      ]
    },
    {
      "cell_type": "code",
      "metadata": {
        "id": "kClTRlkbgzva",
        "colab_type": "code",
        "colab": {}
      },
      "source": [
        "def orbital2D (C, X, F, r = 1.4632, b1 = GTO[\"H\"], b2 = GTO[\"H\"], b = 3, delta=0.02):\n",
        "    domx = np.arange(-3.5,r+3.5+delta,delta)\n",
        "    domy = np.arange(-1.5-r/2,1.5+r/2+delta,delta)\n",
        "    densmap1 = [[0]*len(domx)]*len(domy)\n",
        "    densmap2 = [[0]*len(domx)]*len(domy)\n",
        "    for y in range(len(domy)):\n",
        "        q1 = Psi(domy[y], 0, base=b1, b=b)\n",
        "        q2 = Psi(domy[y], 0, base=b2, b=b)\n",
        "        for x in range(len(domx)):\n",
        "            p1 = Psi(domx[x], 0, base=b1, b=b)\n",
        "            p2 = Psi(domx[x], r, base=b2, b=b)\n",
        "            densmap1[y][x] = (C[0,0]*p1*q1 + C[1,0]*p2*q2)**2\n",
        "            densmap2[y][x] = (C[0,1]*p1*q1 + C[1,1]*p2*q2)**2\n",
        "        densmap1[y] = tuple(densmap1[y])\n",
        "        densmap2[y] = tuple(densmap2[y])\n",
        "    dm1 = np.array(densmap1, dtype=np.float32)\n",
        "    dm2 = np.array(densmap2, dtype=np.float32)\n",
        "    energias = ener_orbs(X, F)\n",
        "    fig = plt.figure()\n",
        "    e1 = energias[0]\n",
        "    a1 = fig.add_subplot(221)\n",
        "    a1.title.set_text(\"Orbital 1\\nE = \" + str(e1))\n",
        "    a1.imshow(dm1,cmap=cm.hot)\n",
        "    e2 = energias[1]\n",
        "    a2 = fig.add_subplot(224)\n",
        "    a2.title.set_text(\"Orbital 2\\nE = \" + str(e2))\n",
        "    a2.imshow(dm2,cmap=cm.hot)\n",
        "    plt.show()"
      ],
      "execution_count": 0,
      "outputs": []
    },
    {
      "cell_type": "markdown",
      "metadata": {
        "id": "UPkmLuVXiFfV",
        "colab_type": "text"
      },
      "source": [
        "En este caso, notemos cómo esta gráfica utilizará más de nuestros resultados para construir una imagen. ¿Será que es necesaria más información que para la gráfica pasada? Revisemos bien el código para ver si notamos algo diferente.\n",
        "\n",
        "Para mientras, vamos a graficar."
      ]
    },
    {
      "cell_type": "code",
      "metadata": {
        "id": "jbXHB31yiEdd",
        "colab_type": "code",
        "colab": {}
      },
      "source": [
        "orbital2D(resultados[\"X\"], resultados[\"C\"], resultados[\"F\"], r = 1.4632, b1 = GTO[\"H\"], b2 = GTO[\"H\"], b = 3)"
      ],
      "execution_count": 0,
      "outputs": []
    },
    {
      "cell_type": "markdown",
      "metadata": {
        "id": "XqtIVGgUio1c",
        "colab_type": "text"
      },
      "source": [
        "Aquí tenemos nuevamente a los dos orbitales, esta vez acompañados de la energía de cada uno. Por si no lo habías descifrado aún, los dos orbitales que obtuvimos son el orbital de **enlace** y el orbital de **anti-enlace**. El primero tiene un valor de energía menor y muestra cómo los electrones se encuentran compartiendo el mismo espacio. El segundo muestra como los electrones no comparten el mismo espacio; más bien se repelen y no forman un enlace.\n",
        "\n",
        "En este momento mereces una felicitación: es la primera vez que calculas un orbital molecular partiendo desde las bases. De manera teórica llegaste a construir el orbital molecular de la molécula de hidrógeno."
      ]
    },
    {
      "cell_type": "markdown",
      "metadata": {
        "id": "ovXyZmHhj6vA",
        "colab_type": "text"
      },
      "source": [
        "## Ejercicios\n",
        "\n",
        "1. Vuelve a calcular la energía total de la molécula de hidrógeno, pero con 6 gaussianas en vez de 3. Vuelve a graficar los orbitales también. Anota tus hallazgos y compara los resultados entre las 2 bases.\n",
        "\n",
        "2. Calcula la energía de la molécula de hidrógeno en ORCA. Vamos a especificarle al programa que deseamos un cálculo de tipo Hartree-Fock y con una base de 3 gaussianas. Luego incluiremos las coordenadas de los átomos despúes de especificar la carga de la molécula y la multiplicidad de los electrones (esto último solo se cambia si la molécula se encuentra excitada o con radicales libres). El documento de entrada se debe de ver entonces de la siguiente manera:\n",
        " \n",
        " `! HF STO-3G `\n",
        " \n",
        " `* xyz 0 1`\n",
        " \n",
        " ` H 0.0000 0.0000 0.0000`\n",
        " \n",
        " ` H 1.4632 0.0000 0.0000`\n",
        " \n",
        " `end`\n",
        " \n",
        " Cuando ya lo hayas ejecutado, revisa el documento de salida y compara esos resultados con los que habías obtenido aquí.\n",
        " \n",
        "3. Calcula la energía total y construye las gráficas para la molécula HeH+ utilizando el SCF.\n",
        "  * Utiliza 3 gaussianas en las bases\n",
        "  * Recuerda cambiar las bases de H a He para uno de los átomos\n",
        "  * Recuerda cambiar la carga nuclear también\n",
        "\n",
        "4. Utiliza ORCA para calcular la energía según el método de **H**artree-**F**ock y una base **STO-3G** para *una* de las siguientes moleculas:\n",
        "  * metano\n",
        "  * metanol\n",
        "  * cloroformo\n",
        "  * cloruro de metileno\n",
        "  * agua\n",
        "  * amoníaco\n",
        "  * floruro de hidrógeno\n",
        "  * hidruro de litio\n",
        "  * etano\n",
        "  * etanol"
      ]
    },
    {
      "cell_type": "code",
      "metadata": {
        "id": "aiXktCvYilWt",
        "colab_type": "code",
        "colab": {}
      },
      "source": [
        ""
      ],
      "execution_count": 0,
      "outputs": []
    }
  ]
}