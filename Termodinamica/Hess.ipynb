{
  "nbformat": 4,
  "nbformat_minor": 0,
  "metadata": {
    "colab": {
      "name": "Hess.ipynb",
      "version": "0.3.2",
      "provenance": [],
      "include_colab_link": true
    },
    "kernelspec": {
      "name": "python3",
      "display_name": "Python 3"
    }
  },
  "cells": [
    {
      "cell_type": "markdown",
      "metadata": {
        "id": "view-in-github",
        "colab_type": "text"
      },
      "source": [
        "<a href=\"https://colab.research.google.com/github/zronyj/fisicoquimica/blob/master/Hess.ipynb\" target=\"_parent\"><img src=\"https://colab.research.google.com/assets/colab-badge.svg\" alt=\"Open In Colab\"/></a>"
      ]
    },
    {
      "metadata": {
        "id": "quXeoydcFy6y",
        "colab_type": "text"
      },
      "cell_type": "markdown",
      "source": [
        "# ¡Te volvemos a dar la bienvenida a un cuaderno interactivo de Colaboratory!\n",
        "\n",
        "Continuando con lo que viste en la práctica, vamos a volver a hacer el mismo ejercicio pero haciendo uso de las herramientas que nos provee nuestro ordenador. Comenzando con la misma reacción, vamos a buscar determinar su entalpía.\n",
        "\n",
        "$$2 CH_4 + 3 O_2 \\rightarrow 2 CO + 4 H_2 O$$\n",
        "\n",
        "Para ello vamos a utilizar dos reacciones más.\n",
        "\n",
        "$$ CH_4 + 2 O_2 \\rightarrow CO_2 + 2 H_2 O \\ \\ \\Delta H_{reac1}^o = −890\\ kJ\\ mol^{−1}$$\n",
        "$$2 CO + O_2 \\rightarrow 2 CO_2 \\ \\ \\Delta H_{reac1}^o = −566\\ kJ\\ mol^{−1}$$\n",
        "\n",
        "Si reescribimos las últimas dos como multiplicaciones vectoriales, resultaríamos obteniendo:\n",
        "\n",
        "$$\\begin{bmatrix}CH_4\\\\ O_2\\\\ CO_2\\\\ H_2 O\\end{bmatrix} \\cdot \\begin{bmatrix}-1\\\\ -2\\\\ 1\\\\ 2\\end{bmatrix}$$\n",
        "\n",
        "$$\\begin{bmatrix}CO\\\\ O_2\\\\ CO_2\\end{bmatrix} \\cdot \\begin{bmatrix}-2\\\\ -1\\\\ 2\\end{bmatrix}$$"
      ]
    },
    {
      "metadata": {
        "id": "JousqVYDImva",
        "colab_type": "text"
      },
      "cell_type": "markdown",
      "source": [
        "Sin embargo, si cada uno de los vectores de números fuera una columna de una matriz, y cada fila representara un compuesto, además de ahora sí incluir a la reacción principal como el vector solución, esto se reescribe como:\n",
        "\n",
        "$$\\begin{matrix}CH_4\\\\ O_2\\\\ CO\\\\ CO_2\\\\ H_2 O\\end{matrix}\\begin{bmatrix}-1 & 0\\\\ -2 & -1\\\\ 0 & -2\\\\ 1 & 2\\\\ 2 & 0\\end{bmatrix} \\cdot \\begin{bmatrix}s_1\\\\ s_2\\end{bmatrix} = \\begin{bmatrix}-2\\\\ -3\\\\ 2\\\\ 0\\\\ 4\\end{bmatrix}$$"
      ]
    },
    {
      "metadata": {
        "id": "KHzP_951MRYO",
        "colab_type": "text"
      },
      "cell_type": "markdown",
      "source": [
        "Claramente tenemos un problema de una matriz multiplocada por un vector, igualada a otro vector. El problema esta vez es que no sabemos si el método de Gauss-Jordan funcionará, pues solo lo vimos para matrices cuadradas. Sin embago, podemos utilizar nuestro ordenador para comenzar a plantear el problema y ver qué resulta de esto."
      ]
    },
    {
      "metadata": {
        "id": "T-__p9ekFuoA",
        "colab_type": "code",
        "colab": {}
      },
      "cell_type": "code",
      "source": [
        "# Importando librerias necesarias\n",
        "import numpy.linalg as la\n",
        "import sympy as sp\n",
        "import numpy as np"
      ],
      "execution_count": 0,
      "outputs": []
    },
    {
      "metadata": {
        "id": "PWXRNELFNq7h",
        "colab_type": "code",
        "colab": {}
      },
      "cell_type": "code",
      "source": [
        "# Definiendo la matriz para resolución con Gauss-Jordan utilizando SymPy\n",
        "M = sp.Matrix([[-1, 0,-2],\n",
        "               [-2,-1,-3],\n",
        "               [ 0,-2, 2],\n",
        "               [ 1, 2, 0],\n",
        "               [ 2, 0, 4]])"
      ],
      "execution_count": 0,
      "outputs": []
    },
    {
      "metadata": {
        "id": "hJv29vPbOwFq",
        "colab_type": "code",
        "colab": {
          "base_uri": "https://localhost:8080/",
          "height": 119
        },
        "outputId": "5ee5abee-cb00-4900-a26a-ca00760e048b"
      },
      "cell_type": "code",
      "source": [
        "# Solucion por metodo de Gauss-Jordan\n",
        "M.rref()"
      ],
      "execution_count": 3,
      "outputs": [
        {
          "output_type": "execute_result",
          "data": {
            "text/plain": [
              "(Matrix([\n",
              " [1, 0,  2],\n",
              " [0, 1, -1],\n",
              " [0, 0,  0],\n",
              " [0, 0,  0],\n",
              " [0, 0,  0]]), (0, 1))"
            ]
          },
          "metadata": {
            "tags": []
          },
          "execution_count": 3
        }
      ]
    },
    {
      "metadata": {
        "id": "XdVMIBZuM6h-",
        "colab_type": "code",
        "colab": {}
      },
      "cell_type": "code",
      "source": [
        "# Definiendo la matriz y el vector solucion para solucion por pseudo-inversa\n",
        "# utilizando NumPy\n",
        "M2 = np.matrix([[-1, 0],\n",
        "                [-2,-1],\n",
        "                [ 0,-2],\n",
        "                [ 1, 2],\n",
        "                [ 2, 0]])\n",
        "v = np.matrix([[-2],[-3],[2],[0],[4]])"
      ],
      "execution_count": 0,
      "outputs": []
    },
    {
      "metadata": {
        "id": "L2YL2dU9NiIM",
        "colab_type": "code",
        "colab": {
          "base_uri": "https://localhost:8080/",
          "height": 51
        },
        "outputId": "8782fbc1-dc4b-4656-f42f-31e9fb5bdad4"
      },
      "cell_type": "code",
      "source": [
        "# Solucion por pseudo-inversa\n",
        "M2i = la.pinv(M2)\n",
        "M2i * v"
      ],
      "execution_count": 5,
      "outputs": [
        {
          "output_type": "execute_result",
          "data": {
            "text/plain": [
              "matrix([[ 2.],\n",
              "        [-1.]])"
            ]
          },
          "metadata": {
            "tags": []
          },
          "execution_count": 5
        }
      ]
    },
    {
      "metadata": {
        "id": "gnvDFN0aQcNx",
        "colab_type": "text"
      },
      "cell_type": "markdown",
      "source": [
        "En este momento ya nos damos cuenta de que los coeficientes $s_1$ y $s_2$ sí se pueden calcular por el método de Gauss-Jordan ```M.rref()``` y por el método de calcular la inversa\n",
        "```la.pinv(M)```. Al haber obtenido los coeficientes, lo único que queda es multiplicar estos por el vector de entalpías.\n",
        "\n",
        "$$\\Delta H^o_{reaccion} = \\Delta \\vec{H^o} \\cdot \\vec{s}$$"
      ]
    },
    {
      "metadata": {
        "id": "FejhnKcRRYxz",
        "colab_type": "code",
        "colab": {
          "base_uri": "https://localhost:8080/",
          "height": 34
        },
        "outputId": "cbd1d5f9-6ee4-481d-ead8-ec32d04eaf57"
      },
      "cell_type": "code",
      "source": [
        "# Producto escalar para obtener la entalpia de reaccion\n",
        "Hf = np.matrix([-890,-566])\n",
        "s = np.matrix([[2],[-1]])\n",
        "Hf * s"
      ],
      "execution_count": 7,
      "outputs": [
        {
          "output_type": "execute_result",
          "data": {
            "text/plain": [
              "matrix([[-1214]])"
            ]
          },
          "metadata": {
            "tags": []
          },
          "execution_count": 7
        }
      ]
    },
    {
      "metadata": {
        "id": "CFKkWB-HSSQ5",
        "colab_type": "text"
      },
      "cell_type": "markdown",
      "source": [
        "Esto se ve como muchas operaciones, y claro, es posible escribirlo en menos espacio. Para estos fines, el método con inversas es muy conveniente."
      ]
    },
    {
      "metadata": {
        "id": "tRxxTSH_RtcU",
        "colab_type": "code",
        "colab": {
          "base_uri": "https://localhost:8080/",
          "height": 34
        },
        "outputId": "b194fb1f-0b72-4013-da93-5a45daeffcdc"
      },
      "cell_type": "code",
      "source": [
        "# Definir el problema\n",
        "M2 = np.matrix([[-1, 0],\n",
        "                [-2,-1],\n",
        "                [ 0,-2],\n",
        "                [ 1, 2],\n",
        "                [ 2, 0]])\n",
        "v = np.matrix([[-2],[-3],[2],[0],[4]])\n",
        "Hf = np.matrix([-890,-566])\n",
        "# Encontrar la solucion\n",
        "Hr = Hf * la.pinv(M2) * v\n",
        "# Presentar la solucion\n",
        "print(\"La entalpia de reaccion es: {0:.2f} kJ/mol.\".format(Hr[0,0]))"
      ],
      "execution_count": 19,
      "outputs": [
        {
          "output_type": "stream",
          "text": [
            "La entalpia de reaccion es: -1214.00 kJ/mol.\n"
          ],
          "name": "stdout"
        }
      ]
    },
    {
      "metadata": {
        "id": "6NeTxMCkUoMx",
        "colab_type": "text"
      },
      "cell_type": "markdown",
      "source": [
        "¡En escasas 5 líneas hemos logrado resumir el procedimiento para calcular la ley de Hess! De poderse hacer esto con cualquier reacción, podría encontrarse las entalpías muy rápido. Pero, ¿y por qué no hacerlo?\n",
        "\n",
        "---\n",
        "Ahora que ya hemos entendido cómo llevar a cabo el procedimiento para encontrar la entalpía de reacción, vamos a repetir el proceso para las siguientes reacciones utilizando las herramientas que acabamos de aprender.\n"
      ]
    },
    {
      "metadata": {
        "id": "_K2qJpAkWUMU",
        "colab_type": "text"
      },
      "cell_type": "markdown",
      "source": [
        "## Ejercicio 1\n",
        "#### Reacción principal\n",
        "$$C_2H_{2\\ (g)} + 2 H_{2\\ (g)} \\rightarrow C_2H_{6\\ (g)}$$\n",
        "#### Reacciones secundarias\n",
        "$$2 C_2H_{2\\ (g)} + 5 O_{2\\ (g)} \\rightarrow 4 CO_{2\\ (g)} + 2 H_2 O_{(l)}\\ \\ \\Delta H_{rxn}^o = -2600\\ kJ\\ mol^{-1}$$\n",
        "\n",
        "$$2 C_2H_{6\\ (g)} + 7 O_{2\\ (g)} \\rightarrow 4 CO_{2\\ (g)} + 6 H_2 O_{(l)}\\ \\ \\Delta H_{rxn}^o = -3210\\ kJ\\ mol^{-1}$$\n",
        "\n",
        "$$H_{2\\ (g)} + \\frac{1}{2} O_{2\\ (g)} \\rightarrow H_2 O_{(l)}\\ \\ \\Delta H_{rxn}^o = -286\\ kJ\\ mol^{-1}$$"
      ]
    },
    {
      "metadata": {
        "id": "Wh12OqMxsNW_",
        "colab_type": "code",
        "colab": {}
      },
      "cell_type": "code",
      "source": [
        ""
      ],
      "execution_count": 0,
      "outputs": []
    },
    {
      "metadata": {
        "id": "irz2u3AKhiAr",
        "colab_type": "text"
      },
      "cell_type": "markdown",
      "source": [
        "## Ejercicio 2\n",
        "#### Reacción principal\n",
        "$$C_{10}H_{16}N_{5}O_{13}P_{3\\ (ac)} + C_{6}H_{12}O_{6\\ (ac)} \\rightleftharpoons C_{10}H_{15}N_{5}O_{10}P_{2\\ (ac)} + C_{6}H_{13}O_{9}P_{(ac)}$$\n",
        "#### Reacciones secundarias\n",
        "$$C_{10}H_{16}N_{5}O_{13}P_{3\\ (ac)} + H_2 O_{(l)} \\rightleftharpoons C_{10}H_{15}N_{5}O_{10}P_{2\\ (ac)} + H_3 PO_{4\\ (ac)}\\ \\ \\Delta H_{rxn}^o = -30.88\\ kJ\\ mol^{-1}$$\n",
        "\n",
        "$$C_{6}H_{13}O_{9}P_{(ac)} + H_2 O_{(l)} \\rightleftharpoons  C_{6}H_{12}O_{6\\ (ac)} + H_3 PO_{4\\ (ac)}\\ \\ \\Delta H_{rxn}^o = -0.50\\ kJ\\ mol^{-1}$$"
      ]
    },
    {
      "metadata": {
        "id": "00TWpVKESa-X",
        "colab_type": "code",
        "colab": {}
      },
      "cell_type": "code",
      "source": [
        ""
      ],
      "execution_count": 0,
      "outputs": []
    },
    {
      "metadata": {
        "id": "g44h1bYrX7U8",
        "colab_type": "text"
      },
      "cell_type": "markdown",
      "source": [
        "## Ejercicio 3\n",
        "#### Reacción principal\n",
        "$$H_2 O{(g)} \\rightarrow H_2 O{(l)}$$\n",
        "#### Reacciones secundarias\n",
        "$$H_{2\\ (g)} + \\frac{1}{2} O_{2\\ (g)} \\rightarrow H_2 O_{(g)}\\ \\ \\Delta H_{rxn}^o = -242\\ kJ\\ mol^{-1}$$\n",
        "\n",
        "$$H_{2\\ (g)} + \\frac{1}{2} O_{2\\ (g)} \\rightarrow H_2 O_{(l)}\\ \\ \\Delta H_{rxn}^o = -286\\ kJ\\ mol^{-1}$$"
      ]
    },
    {
      "metadata": {
        "id": "3bHsen9SYVAh",
        "colab_type": "code",
        "colab": {}
      },
      "cell_type": "code",
      "source": [
        ""
      ],
      "execution_count": 0,
      "outputs": []
    },
    {
      "metadata": {
        "id": "oM6nd8fXYhjN",
        "colab_type": "text"
      },
      "cell_type": "markdown",
      "source": [
        "## Ejercicio 4\n",
        "#### Reacción principal\n",
        "$$Fe_2 O_{3\\ (s)} + 2 Al_{(l)} \\rightarrow 2 Fe_{(l)} + Al_2 O_{3 (l)}$$\n",
        "#### Reacciones secundarias\n",
        "$$Fe_{(l)} \\rightarrow Fe_{(s)}\\ \\ \\Delta H_{rxn}^o = -12.40 \\ kJ\\ mol^{-1}$$\n",
        "\n",
        "$$Al_{(l)} \\rightarrow Al_{(s)}\\ \\ \\Delta H_{rxn}^o = -10.56 \\ kJ\\ mol^{-1}$$\n",
        "\n",
        "$$2 Fe_{(s)} + 3 O_{2\\ (g)} \\rightarrow Fe_2 O_{3\\ (s)}\\ \\ \\Delta H_{rxn}^o = -825.50 \\ kJ\\ mol^{-1}$$\n",
        "\n",
        "$$2 Al_{(l)} + 3 O_{2\\ (g)} \\rightarrow Al_2 O_{3\\ (l)}\\ \\ \\Delta H_{rxn}^o = -1641.69 \\ kJ\\ mol^{-1}$$"
      ]
    },
    {
      "metadata": {
        "id": "D5G43XOarn4l",
        "colab_type": "code",
        "colab": {}
      },
      "cell_type": "code",
      "source": [
        ""
      ],
      "execution_count": 0,
      "outputs": []
    },
    {
      "metadata": {
        "id": "ODDO5mqAr2BK",
        "colab_type": "text"
      },
      "cell_type": "markdown",
      "source": [
        "Por si se preguntaban, el **Ejercicio 1** es la reacción de hidrogenación del acetileno. Es más común encontrar la reacción planteada en sentido contrario.\n",
        "\n",
        "El **Ejercicio 2**  es la primera reacción que sucede en la ruta de la glucólisis en bioquímica. En \"palabras\" más fáciles, las reacciones son las siguientes:\n",
        "\n",
        "#### Reacción principal\n",
        "$$ATP + Glu \\rightleftharpoons ADP + Glu6P$$\n",
        "#### Reacciones secundarias\n",
        "$$ATP + H_2 O_{(l)} \\rightleftharpoons ADP + H_3 PO_{4\\ (ac)}\\ \\ \\Delta H_{rxn}^o = -30.88\\ kJ\\ mol^{-1}$$\n",
        "\n",
        "$$Glu6P+ H_2 O_{(l)} \\rightleftharpoons  Glu + H_3 PO_{4\\ (ac)}\\ \\ \\Delta H_{rxn}^o = -0.50\\ kJ\\ mol^{-1}$$\n",
        "\n",
        "En donde:\n",
        "- *Glu* = glucosa\n",
        "- *Glu6P* = glucosa 6-fosfato\n",
        "\n",
        "El **Ejercicio 4** es la reacción conocida como *Termita* que se utilizaba en la antigüedad para soldar rieles de tren. Alcanza temperaturas superiores a los 3000°C."
      ]
    }
  ]
}